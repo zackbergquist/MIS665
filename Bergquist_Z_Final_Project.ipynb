{
 "cells": [
  {
   "cell_type": "markdown",
   "metadata": {},
   "source": [
    "# Zachary Bergquist - Final Project\n",
    "### \"On my honor, as a student, I have neither given nor received unauthorized aid on this academic work.\""
   ]
  },
  {
   "cell_type": "code",
   "execution_count": 70,
   "metadata": {},
   "outputs": [],
   "source": [
    "import pandas as pd\n",
    "import numpy as np\n",
    "%matplotlib inline\n",
    "import matplotlib.pyplot as plt\n",
    "import seaborn as sns\n",
    "from scipy import stats\n",
    "\n",
    "#regression packages\n",
    "import sklearn.linear_model as lm\n",
    "from sklearn.metrics import mean_squared_error\n",
    "from sklearn.metrics import explained_variance_score\n",
    "\n",
    "#lasso regression\n",
    "from sklearn import linear_model\n",
    "\n",
    "#f_regression (feature selection)\n",
    "from sklearn.feature_selection import f_regression\n",
    "from sklearn.feature_selection import SelectKBest\n",
    "\n",
    "# recursive feature selection (feature selection)\n",
    "from sklearn.feature_selection import RFE\n",
    "\n",
    "import statsmodels.api as sm\n",
    "from statsmodels.formula.api import ols\n",
    "\n",
    "#import decisiontreeclassifier\n",
    "from sklearn import tree\n",
    "from sklearn.tree import DecisionTreeClassifier\n",
    "\n",
    "#for validating your classification model\n",
    "from sklearn.model_selection import train_test_split\n",
    "from sklearn.model_selection import cross_val_score\n",
    "from sklearn import metrics\n",
    "from sklearn.metrics import roc_curve, auc\n",
    "\n",
    "#import knnclassifier\n",
    "from sklearn.neighbors import KNeighborsClassifier\n",
    "\n",
    "from sklearn.cluster import KMeans\n",
    "from sklearn.cluster import AgglomerativeClustering\n",
    "from sklearn.metrics import pairwise_distances\n",
    "from pandas.plotting import parallel_coordinates"
   ]
  },
  {
   "cell_type": "markdown",
   "metadata": {},
   "source": [
    "## Background\n",
    "#### Information from the top 5000 movies from IMDb have been scraped and organized. This information will be further analyzed in order to find which factors are important when predicting a movie's success."
   ]
  },
  {
   "cell_type": "markdown",
   "metadata": {},
   "source": [
    "## Goals of the project:\n",
    "- Predict the success of a movie before it is released based on comparing certain traits of \"good\" and \"bad\" movies from IMDb.\n",
    "- Success is determined by its IMDb rating"
   ]
  },
  {
   "cell_type": "markdown",
   "metadata": {},
   "source": [
    "## If you’re hired as a data/business analyst to predict how well a movie will perform in theaters, what kind of data would you collect?\n",
    "- Duration\n",
    "- Number of votes\n",
    "- Social media popularity of the movie\n",
    "- Social media popularity of the top three actors\n",
    "- Social media popularity of the director\n",
    "- Success of director's past movies\n",
    "- ROI ratio\n",
    "- Profit\n",
    "- Budget"
   ]
  },
  {
   "cell_type": "markdown",
   "metadata": {},
   "source": [
    "## What variables are highly correlated to imdb score?\n",
    "- Director's past success\n",
    "- Number of votes is highly correlated to IMDb score\n",
    "- Duration is highly correlated to a movie's success\n",
    "- Number of critics who reviewed the movie\n",
    "- Numbmer of users who reviewed the movie\n",
    "- Social Media popularity of the movie\n",
    "- Gross earnings\n",
    "- Social Media popularity of the director"
   ]
  },
  {
   "cell_type": "markdown",
   "metadata": {},
   "source": [
    "## Data Understanding"
   ]
  },
  {
   "cell_type": "code",
   "execution_count": 71,
   "metadata": {},
   "outputs": [
    {
     "data": {
      "text/html": [
       "<div>\n",
       "<style scoped>\n",
       "    .dataframe tbody tr th:only-of-type {\n",
       "        vertical-align: middle;\n",
       "    }\n",
       "\n",
       "    .dataframe tbody tr th {\n",
       "        vertical-align: top;\n",
       "    }\n",
       "\n",
       "    .dataframe thead th {\n",
       "        text-align: right;\n",
       "    }\n",
       "</style>\n",
       "<table border=\"1\" class=\"dataframe\">\n",
       "  <thead>\n",
       "    <tr style=\"text-align: right;\">\n",
       "      <th></th>\n",
       "      <th>color</th>\n",
       "      <th>director_name</th>\n",
       "      <th>num_critic_for_reviews</th>\n",
       "      <th>duration</th>\n",
       "      <th>director_facebook_likes</th>\n",
       "      <th>actor_3_facebook_likes</th>\n",
       "      <th>actor_2_name</th>\n",
       "      <th>actor_1_facebook_likes</th>\n",
       "      <th>gross</th>\n",
       "      <th>genres</th>\n",
       "      <th>...</th>\n",
       "      <th>num_user_for_reviews</th>\n",
       "      <th>language</th>\n",
       "      <th>country</th>\n",
       "      <th>content_rating</th>\n",
       "      <th>budget</th>\n",
       "      <th>title_year</th>\n",
       "      <th>actor_2_facebook_likes</th>\n",
       "      <th>imdb_score</th>\n",
       "      <th>aspect_ratio</th>\n",
       "      <th>movie_facebook_likes</th>\n",
       "    </tr>\n",
       "  </thead>\n",
       "  <tbody>\n",
       "    <tr>\n",
       "      <th>0</th>\n",
       "      <td>Color</td>\n",
       "      <td>James Cameron</td>\n",
       "      <td>723.0</td>\n",
       "      <td>178.0</td>\n",
       "      <td>0.0</td>\n",
       "      <td>855.0</td>\n",
       "      <td>Joel David Moore</td>\n",
       "      <td>1000.0</td>\n",
       "      <td>760505847.0</td>\n",
       "      <td>Action|Adventure|Fantasy|Sci-Fi</td>\n",
       "      <td>...</td>\n",
       "      <td>3054.0</td>\n",
       "      <td>English</td>\n",
       "      <td>USA</td>\n",
       "      <td>PG-13</td>\n",
       "      <td>237000000.0</td>\n",
       "      <td>2009.0</td>\n",
       "      <td>936.0</td>\n",
       "      <td>7.9</td>\n",
       "      <td>1.78</td>\n",
       "      <td>33000</td>\n",
       "    </tr>\n",
       "    <tr>\n",
       "      <th>1</th>\n",
       "      <td>Color</td>\n",
       "      <td>Gore Verbinski</td>\n",
       "      <td>302.0</td>\n",
       "      <td>169.0</td>\n",
       "      <td>563.0</td>\n",
       "      <td>1000.0</td>\n",
       "      <td>Orlando Bloom</td>\n",
       "      <td>40000.0</td>\n",
       "      <td>309404152.0</td>\n",
       "      <td>Action|Adventure|Fantasy</td>\n",
       "      <td>...</td>\n",
       "      <td>1238.0</td>\n",
       "      <td>English</td>\n",
       "      <td>USA</td>\n",
       "      <td>PG-13</td>\n",
       "      <td>300000000.0</td>\n",
       "      <td>2007.0</td>\n",
       "      <td>5000.0</td>\n",
       "      <td>7.1</td>\n",
       "      <td>2.35</td>\n",
       "      <td>0</td>\n",
       "    </tr>\n",
       "    <tr>\n",
       "      <th>2</th>\n",
       "      <td>Color</td>\n",
       "      <td>Sam Mendes</td>\n",
       "      <td>602.0</td>\n",
       "      <td>148.0</td>\n",
       "      <td>0.0</td>\n",
       "      <td>161.0</td>\n",
       "      <td>Rory Kinnear</td>\n",
       "      <td>11000.0</td>\n",
       "      <td>200074175.0</td>\n",
       "      <td>Action|Adventure|Thriller</td>\n",
       "      <td>...</td>\n",
       "      <td>994.0</td>\n",
       "      <td>English</td>\n",
       "      <td>UK</td>\n",
       "      <td>PG-13</td>\n",
       "      <td>245000000.0</td>\n",
       "      <td>2015.0</td>\n",
       "      <td>393.0</td>\n",
       "      <td>6.8</td>\n",
       "      <td>2.35</td>\n",
       "      <td>85000</td>\n",
       "    </tr>\n",
       "    <tr>\n",
       "      <th>3</th>\n",
       "      <td>Color</td>\n",
       "      <td>Christopher Nolan</td>\n",
       "      <td>813.0</td>\n",
       "      <td>164.0</td>\n",
       "      <td>22000.0</td>\n",
       "      <td>23000.0</td>\n",
       "      <td>Christian Bale</td>\n",
       "      <td>27000.0</td>\n",
       "      <td>448130642.0</td>\n",
       "      <td>Action|Thriller</td>\n",
       "      <td>...</td>\n",
       "      <td>2701.0</td>\n",
       "      <td>English</td>\n",
       "      <td>USA</td>\n",
       "      <td>PG-13</td>\n",
       "      <td>250000000.0</td>\n",
       "      <td>2012.0</td>\n",
       "      <td>23000.0</td>\n",
       "      <td>8.5</td>\n",
       "      <td>2.35</td>\n",
       "      <td>164000</td>\n",
       "    </tr>\n",
       "    <tr>\n",
       "      <th>4</th>\n",
       "      <td>NaN</td>\n",
       "      <td>Doug Walker</td>\n",
       "      <td>NaN</td>\n",
       "      <td>NaN</td>\n",
       "      <td>131.0</td>\n",
       "      <td>NaN</td>\n",
       "      <td>Rob Walker</td>\n",
       "      <td>131.0</td>\n",
       "      <td>NaN</td>\n",
       "      <td>Documentary</td>\n",
       "      <td>...</td>\n",
       "      <td>NaN</td>\n",
       "      <td>NaN</td>\n",
       "      <td>NaN</td>\n",
       "      <td>NaN</td>\n",
       "      <td>NaN</td>\n",
       "      <td>NaN</td>\n",
       "      <td>12.0</td>\n",
       "      <td>7.1</td>\n",
       "      <td>NaN</td>\n",
       "      <td>0</td>\n",
       "    </tr>\n",
       "  </tbody>\n",
       "</table>\n",
       "<p>5 rows × 28 columns</p>\n",
       "</div>"
      ],
      "text/plain": [
       "   color      director_name  num_critic_for_reviews  duration  \\\n",
       "0  Color      James Cameron                   723.0     178.0   \n",
       "1  Color     Gore Verbinski                   302.0     169.0   \n",
       "2  Color         Sam Mendes                   602.0     148.0   \n",
       "3  Color  Christopher Nolan                   813.0     164.0   \n",
       "4    NaN        Doug Walker                     NaN       NaN   \n",
       "\n",
       "   director_facebook_likes  actor_3_facebook_likes      actor_2_name  \\\n",
       "0                      0.0                   855.0  Joel David Moore   \n",
       "1                    563.0                  1000.0     Orlando Bloom   \n",
       "2                      0.0                   161.0      Rory Kinnear   \n",
       "3                  22000.0                 23000.0    Christian Bale   \n",
       "4                    131.0                     NaN        Rob Walker   \n",
       "\n",
       "   actor_1_facebook_likes        gross                           genres  \\\n",
       "0                  1000.0  760505847.0  Action|Adventure|Fantasy|Sci-Fi   \n",
       "1                 40000.0  309404152.0         Action|Adventure|Fantasy   \n",
       "2                 11000.0  200074175.0        Action|Adventure|Thriller   \n",
       "3                 27000.0  448130642.0                  Action|Thriller   \n",
       "4                   131.0          NaN                      Documentary   \n",
       "\n",
       "          ...          num_user_for_reviews language  country  content_rating  \\\n",
       "0         ...                        3054.0  English      USA           PG-13   \n",
       "1         ...                        1238.0  English      USA           PG-13   \n",
       "2         ...                         994.0  English       UK           PG-13   \n",
       "3         ...                        2701.0  English      USA           PG-13   \n",
       "4         ...                           NaN      NaN      NaN             NaN   \n",
       "\n",
       "        budget  title_year actor_2_facebook_likes imdb_score  aspect_ratio  \\\n",
       "0  237000000.0      2009.0                  936.0        7.9          1.78   \n",
       "1  300000000.0      2007.0                 5000.0        7.1          2.35   \n",
       "2  245000000.0      2015.0                  393.0        6.8          2.35   \n",
       "3  250000000.0      2012.0                23000.0        8.5          2.35   \n",
       "4          NaN         NaN                   12.0        7.1           NaN   \n",
       "\n",
       "  movie_facebook_likes  \n",
       "0                33000  \n",
       "1                    0  \n",
       "2                85000  \n",
       "3               164000  \n",
       "4                    0  \n",
       "\n",
       "[5 rows x 28 columns]"
      ]
     },
     "execution_count": 71,
     "metadata": {},
     "output_type": "execute_result"
    }
   ],
   "source": [
    "# Read in .csv file containing scraped info from IMDb\n",
    "data = pd.read_csv(\"C:\\Users\\zacha\\OneDrive - Kansas State University\\MIS 665\\Midterm Project\\movie_metadata.csv_movie_metadata.csv\")\n",
    "data.head()"
   ]
  },
  {
   "cell_type": "code",
   "execution_count": 72,
   "metadata": {
    "scrolled": true
   },
   "outputs": [
    {
     "name": "stdout",
     "output_type": "stream",
     "text": [
      "Index([u'color', u'director_name', u'num_critic_for_reviews', u'duration',\n",
      "       u'director_facebook_likes', u'actor_3_facebook_likes', u'actor_2_name',\n",
      "       u'actor_1_facebook_likes', u'gross', u'genres', u'actor_1_name',\n",
      "       u'movie_title', u'num_voted_users', u'cast_total_facebook_likes',\n",
      "       u'actor_3_name', u'facenumber_in_poster', u'plot_keywords',\n",
      "       u'movie_imdb_link', u'num_user_for_reviews', u'language', u'country',\n",
      "       u'content_rating', u'budget', u'title_year', u'actor_2_facebook_likes',\n",
      "       u'imdb_score', u'aspect_ratio', u'movie_facebook_likes'],\n",
      "      dtype='object')\n",
      "5043\n",
      "<class 'pandas.core.frame.DataFrame'>\n",
      "RangeIndex: 5043 entries, 0 to 5042\n",
      "Data columns (total 28 columns):\n",
      "color                        5024 non-null object\n",
      "director_name                4939 non-null object\n",
      "num_critic_for_reviews       4993 non-null float64\n",
      "duration                     5028 non-null float64\n",
      "director_facebook_likes      4939 non-null float64\n",
      "actor_3_facebook_likes       5020 non-null float64\n",
      "actor_2_name                 5030 non-null object\n",
      "actor_1_facebook_likes       5036 non-null float64\n",
      "gross                        4159 non-null float64\n",
      "genres                       5043 non-null object\n",
      "actor_1_name                 5036 non-null object\n",
      "movie_title                  5043 non-null object\n",
      "num_voted_users              5043 non-null int64\n",
      "cast_total_facebook_likes    5043 non-null int64\n",
      "actor_3_name                 5020 non-null object\n",
      "facenumber_in_poster         5030 non-null float64\n",
      "plot_keywords                4890 non-null object\n",
      "movie_imdb_link              5043 non-null object\n",
      "num_user_for_reviews         5022 non-null float64\n",
      "language                     5031 non-null object\n",
      "country                      5038 non-null object\n",
      "content_rating               4740 non-null object\n",
      "budget                       4551 non-null float64\n",
      "title_year                   4935 non-null float64\n",
      "actor_2_facebook_likes       5030 non-null float64\n",
      "imdb_score                   5043 non-null float64\n",
      "aspect_ratio                 4714 non-null float64\n",
      "movie_facebook_likes         5043 non-null int64\n",
      "dtypes: float64(13), int64(3), object(12)\n",
      "memory usage: 1.1+ MB\n",
      "None\n"
     ]
    }
   ],
   "source": [
    "# Check column names, number of observations, data type\n",
    "print data.columns\n",
    "print len(data)\n",
    "print data.info()"
   ]
  },
  {
   "cell_type": "code",
   "execution_count": 73,
   "metadata": {},
   "outputs": [
    {
     "data": {
      "text/plain": [
       "color                         19\n",
       "director_name                104\n",
       "num_critic_for_reviews        50\n",
       "duration                      15\n",
       "director_facebook_likes      104\n",
       "actor_3_facebook_likes        23\n",
       "actor_2_name                  13\n",
       "actor_1_facebook_likes         7\n",
       "gross                        884\n",
       "genres                         0\n",
       "actor_1_name                   7\n",
       "movie_title                    0\n",
       "num_voted_users                0\n",
       "cast_total_facebook_likes      0\n",
       "actor_3_name                  23\n",
       "facenumber_in_poster          13\n",
       "plot_keywords                153\n",
       "movie_imdb_link                0\n",
       "num_user_for_reviews          21\n",
       "language                      12\n",
       "country                        5\n",
       "content_rating               303\n",
       "budget                       492\n",
       "title_year                   108\n",
       "actor_2_facebook_likes        13\n",
       "imdb_score                     0\n",
       "aspect_ratio                 329\n",
       "movie_facebook_likes           0\n",
       "dtype: int64"
      ]
     },
     "execution_count": 73,
     "metadata": {},
     "output_type": "execute_result"
    }
   ],
   "source": [
    "# Check for any missing values\n",
    "data.isnull().sum()"
   ]
  },
  {
   "cell_type": "markdown",
   "metadata": {},
   "source": [
    "### The data currently has a significant amount of missing values that could affect the accuracy of the rating prediction system.\n",
    "- Any rows with missing values will be removed.\n",
    "\n",
    "### Some new columns could be created to better analyze the data:\n",
    "- Top 3 actors' total Facebook likes combined into one column\n",
    "- ROI ratio = (profit/budget)\n",
    "- Proportionate average IMDb score for each director = total score for all movies made by that director / total movies made by that director\n",
    "\n",
    "### Columns can be removed to remove redundancy or extraneous/insignificant information:\n",
    "- actor 1 facebook likes\n",
    "- actor 2 facebook likes\n",
    "- actor 3 facebook likes\n",
    "- color\n",
    "- language\n",
    "- aspect ratio\n",
    "- movie imdb link\n",
    "- genres\n",
    "- plot keywords"
   ]
  },
  {
   "cell_type": "code",
   "execution_count": 74,
   "metadata": {},
   "outputs": [
    {
     "data": {
      "text/plain": [
       "imdb_score  top_3_actors_likes\n",
       "1.6         679.0                 1\n",
       "1.7         1830.0                1\n",
       "1.9         1094.0                1\n",
       "            1211.0                1\n",
       "            1822.0                1\n",
       "Name: top_3_actors_likes, dtype: int64"
      ]
     },
     "execution_count": 74,
     "metadata": {},
     "output_type": "execute_result"
    }
   ],
   "source": [
    "# Creates a new column with the total of the top 3 actors' facebook likes\n",
    "data['top_3_actors_likes'] = data.actor_1_facebook_likes + data.actor_2_facebook_likes + data.actor_3_facebook_likes\n",
    "\n",
    "# This new column is then organized by IMDb rating\n",
    "data.groupby('imdb_score')['top_3_actors_likes'].value_counts().head()"
   ]
  },
  {
   "cell_type": "code",
   "execution_count": 75,
   "metadata": {},
   "outputs": [
    {
     "data": {
      "text/plain": [
       "imdb_score  duration\n",
       "1.6         115.0       1\n",
       "1.7         91.0        1\n",
       "1.9         88.0        2\n",
       "            97.0        1\n",
       "2.0         93.0        1\n",
       "Name: duration, dtype: int64"
      ]
     },
     "execution_count": 75,
     "metadata": {},
     "output_type": "execute_result"
    }
   ],
   "source": [
    "# Shows count of all movies in terms of duratio,n sorted by IMDb score\n",
    "data.groupby('imdb_score')['duration'].value_counts().head()"
   ]
  },
  {
   "cell_type": "code",
   "execution_count": 76,
   "metadata": {},
   "outputs": [
    {
     "data": {
      "text/plain": [
       "imdb_score  budget    \n",
       "1.6         13000000.0    1\n",
       "1.7         65000000.0    1\n",
       "1.9         1000000.0     1\n",
       "            20000000.0    1\n",
       "            25000000.0    1\n",
       "Name: budget, dtype: int64"
      ]
     },
     "execution_count": 76,
     "metadata": {},
     "output_type": "execute_result"
    }
   ],
   "source": [
    "# Shows count of all movies in terms of budget, sorted by IMDb score.\n",
    "data.groupby('imdb_score')['budget'].value_counts().head()"
   ]
  },
  {
   "cell_type": "code",
   "execution_count": 77,
   "metadata": {},
   "outputs": [
    {
     "data": {
      "text/plain": [
       "imdb_score  director_facebook_likes\n",
       "1.6         209.0                      1\n",
       "1.7         11.0                       1\n",
       "1.9         0.0                        1\n",
       "            82.0                       1\n",
       "            84.0                       1\n",
       "Name: director_facebook_likes, dtype: int64"
      ]
     },
     "execution_count": 77,
     "metadata": {},
     "output_type": "execute_result"
    }
   ],
   "source": [
    "# The amount of facebook likes for each movie, sorted by IMDb rating\n",
    "data.groupby('imdb_score').director_facebook_likes.value_counts().head()"
   ]
  },
  {
   "cell_type": "code",
   "execution_count": 78,
   "metadata": {},
   "outputs": [
    {
     "data": {
      "text/plain": [
       "imdb_score  facenumber_in_poster\n",
       "1.6         1.0                     1\n",
       "1.7         0.0                     1\n",
       "1.9         0.0                     1\n",
       "            2.0                     1\n",
       "            3.0                     1\n",
       "Name: facenumber_in_poster, dtype: int64"
      ]
     },
     "execution_count": 78,
     "metadata": {},
     "output_type": "execute_result"
    }
   ],
   "source": [
    "# Number of faces on the movie poster, sorted by IMDb rating\n",
    "data.groupby('imdb_score')['facenumber_in_poster'].value_counts().head()"
   ]
  },
  {
   "cell_type": "markdown",
   "metadata": {},
   "source": [
    "## Data Preparation"
   ]
  },
  {
   "cell_type": "code",
   "execution_count": 79,
   "metadata": {},
   "outputs": [],
   "source": [
    "# Remove any rows that are missing values\n",
    "dropped = data.dropna()"
   ]
  },
  {
   "cell_type": "code",
   "execution_count": 80,
   "metadata": {},
   "outputs": [],
   "source": [
    "# Organize ratings\n",
    "cleaned = dropped.replace({'content_rating': 'M'},{'content_rating': 'PG'})\n",
    "cleaned = cleaned.replace({'content_rating': 'GP'},{'content_rating': 'PG'})\n",
    "cleaned = cleaned.replace({'content_rating': 'X'},{'content_rating': 'NC-17'})\n",
    "cleaned = cleaned.replace({'content_rating': 'Approved'},{'content_rating': 'R'})\n",
    "cleaned = cleaned.replace({'content_rating': 'Not Rated'},{'content_rating': 'R'})\n",
    "cleaned = cleaned.replace({'content_rating': 'Passed'},{'content_rating': 'R'})\n",
    "cleaned = cleaned.replace({'content_rating': 'Unrated'},{'content_rating': 'R'})"
   ]
  },
  {
   "cell_type": "code",
   "execution_count": 81,
   "metadata": {},
   "outputs": [
    {
     "data": {
      "text/plain": [
       "array(['PG-13', 'PG', 'G', 'R', 'NC-17'], dtype=object)"
      ]
     },
     "execution_count": 81,
     "metadata": {},
     "output_type": "execute_result"
    }
   ],
   "source": [
    "# Check that replacements are in effect\n",
    "cleaned.content_rating.unique()"
   ]
  },
  {
   "cell_type": "code",
   "execution_count": 82,
   "metadata": {},
   "outputs": [],
   "source": [
    "# Drop the color, language, aspect ratio, movie link, genres, plot keywords, actor 1 facebook likes,\n",
    "# actor 2 facebook likes, and actor 3 facebook likes columns, as they are statistically insignificant\n",
    "df1 = cleaned.drop(['color','language','aspect_ratio', 'movie_imdb_link', 'genres', 'plot_keywords', 'actor_1_facebook_likes', 'actor_2_facebook_likes','actor_3_facebook_likes'], axis=1)"
   ]
  },
  {
   "cell_type": "code",
   "execution_count": 83,
   "metadata": {},
   "outputs": [],
   "source": [
    "# Create a profit column\n",
    "df1['profit'] = df1.gross - df1.budget"
   ]
  },
  {
   "cell_type": "code",
   "execution_count": 84,
   "metadata": {
    "scrolled": true
   },
   "outputs": [],
   "source": [
    "# Create a return on investment percentage column\n",
    "df1['roi_ratio'] = (df1.profit/df1.budget)"
   ]
  },
  {
   "cell_type": "code",
   "execution_count": 85,
   "metadata": {},
   "outputs": [],
   "source": [
    "# Creates a variable that calculates the proportional average of each director's success (total IMDb score for each director / number of movies made for that director)\n",
    "dir_total_score = df1['imdb_score'].groupby(df1['director_name']).transform('sum')\n",
    "dir_num_movies = df1['imdb_score'].groupby(df1['director_name']).transform('size')\n",
    "df1['dir_avg_score'] = dir_total_score/dir_num_movies"
   ]
  },
  {
   "cell_type": "code",
   "execution_count": 86,
   "metadata": {},
   "outputs": [
    {
     "name": "stdout",
     "output_type": "stream",
     "text": [
      "<class 'pandas.core.frame.DataFrame'>\n",
      "Int64Index: 3756 entries, 0 to 5042\n",
      "Data columns (total 23 columns):\n",
      "director_name                3756 non-null object\n",
      "num_critic_for_reviews       3756 non-null float64\n",
      "duration                     3756 non-null float64\n",
      "director_facebook_likes      3756 non-null float64\n",
      "actor_2_name                 3756 non-null object\n",
      "gross                        3756 non-null float64\n",
      "actor_1_name                 3756 non-null object\n",
      "movie_title                  3756 non-null object\n",
      "num_voted_users              3756 non-null int64\n",
      "cast_total_facebook_likes    3756 non-null int64\n",
      "actor_3_name                 3756 non-null object\n",
      "facenumber_in_poster         3756 non-null float64\n",
      "num_user_for_reviews         3756 non-null float64\n",
      "country                      3756 non-null object\n",
      "content_rating               3756 non-null object\n",
      "budget                       3756 non-null float64\n",
      "title_year                   3756 non-null float64\n",
      "imdb_score                   3756 non-null float64\n",
      "movie_facebook_likes         3756 non-null int64\n",
      "top_3_actors_likes           3756 non-null float64\n",
      "profit                       3756 non-null float64\n",
      "roi_ratio                    3756 non-null float64\n",
      "dir_avg_score                3756 non-null float64\n",
      "dtypes: float64(13), int64(3), object(7)\n",
      "memory usage: 864.2+ KB\n"
     ]
    }
   ],
   "source": [
    "# Check that all columns were created/removed/changed appropriately\n",
    "df1.info()"
   ]
  },
  {
   "cell_type": "markdown",
   "metadata": {},
   "source": [
    "## Data Visualization"
   ]
  },
  {
   "cell_type": "code",
   "execution_count": 87,
   "metadata": {},
   "outputs": [
    {
     "data": {
      "text/plain": [
       "<matplotlib.axes._subplots.AxesSubplot at 0x13f933c8>"
      ]
     },
     "execution_count": 87,
     "metadata": {},
     "output_type": "execute_result"
    },
    {
     "data": {
      "image/png": "[encoded data removed]",
      "text/plain": [
       "<Figure size 432x288 with 2 Axes>"
      ]
     },
     "metadata": {},
     "output_type": "display_data"
    }
   ],
   "source": [
    "# This scatter plot shows the relationship between duration of a movie and its IMDb score. The effect of the director's average score is also included.\n",
    "df1.plot.scatter(x='duration', y='imdb_score', c= 'dir_avg_score', colormap= 'inferno')"
   ]
  },
  {
   "cell_type": "markdown",
   "metadata": {},
   "source": [
    "### From this graph, we can see that more successful movies tend to be longer in duration.\n",
    "### It is also apparent that the director's average IMDb score has a large effect on the movie's success."
   ]
  },
  {
   "cell_type": "code",
   "execution_count": 88,
   "metadata": {},
   "outputs": [
    {
     "data": {
      "text/plain": [
       "<seaborn.axisgrid.FacetGrid at 0xe660f28>"
      ]
     },
     "execution_count": 88,
     "metadata": {},
     "output_type": "execute_result"
    },
    {
     "data": {
      "image/png": "[encoded data removed]",
      "text/plain": [
       "<Figure size 1800x360 with 5 Axes>"
      ]
     },
     "metadata": {},
     "output_type": "display_data"
    }
   ],
   "source": [
    "# Compares relationship between duration to IMDb score, separated by content rating category.\n",
    "sns.lmplot(x='duration', y=\"imdb_score\", col='content_rating', hue=\"content_rating\", data=df1, col_wrap=5)"
   ]
  },
  {
   "cell_type": "markdown",
   "metadata": {},
   "source": [
    "### This set of charts further analyzes the relationship between duration and IMDb score.\n",
    "### We can see that movies with an NC-17 rating are the only category where the relationship is not positive.\n",
    "### Another interesting find from this information is that the relationship is not as strong for movies rated 'G'. This makes sense, as children\n",
    "### generally have shorter attention spans.\n",
    "### The rating category of 'R' has more movies with longer durations than the others.\n"
   ]
  },
  {
   "cell_type": "code",
   "execution_count": 89,
   "metadata": {
    "scrolled": true
   },
   "outputs": [
    {
     "data": {
      "text/plain": [
       "<matplotlib.axes._subplots.AxesSubplot at 0x13f84048>"
      ]
     },
     "execution_count": 89,
     "metadata": {},
     "output_type": "execute_result"
    },
    {
     "data": {
      "image/png": "[encoded data removed]",
      "text/plain": [
       "<Figure size 432x288 with 2 Axes>"
      ]
     },
     "metadata": {},
     "output_type": "display_data"
    }
   ],
   "source": [
    "# This scatter plot shows the relationship between the number of users who voted compared to its IMDb score. Also included are the number of facebook likes.\n",
    "df1.plot.scatter(x='num_voted_users', y='imdb_score', c='movie_facebook_likes', colormap= 'inferno')"
   ]
  },
  {
   "cell_type": "markdown",
   "metadata": {},
   "source": [
    "### This demonstrates how the popularity positively affects a movie's score.\n",
    "### Both the number of ratings on IMDb and the number of likes the movie has on Facebook are included."
   ]
  },
  {
   "cell_type": "markdown",
   "metadata": {},
   "source": [
    "## Data Correlation"
   ]
  },
  {
   "cell_type": "markdown",
   "metadata": {},
   "source": [
    "### First, object columns must be removed, as they provide no value in correlation analysis:\n",
    "- Director name\n",
    "- Actor 1 name\n",
    "- Actor 2 name\n",
    "- Actor 3 name\n",
    "- Movie title\n",
    "- Country\n",
    "\n",
    "### Some data types need to be changed from categorical to numerical for correlation analysis.\n",
    "- Content rating"
   ]
  },
  {
   "cell_type": "code",
   "execution_count": 90,
   "metadata": {},
   "outputs": [],
   "source": [
    "# Replace content rating categorical values with numerical values: G:0, PG:1, PG-13:2, R:3, NC-17:4\n",
    "df_corr = df1.replace({'content_rating': 'G'}, {'content_rating': 0})\n",
    "df_corr = df_corr.replace({'content_rating': 'PG'}, {'content_rating': 1})\n",
    "df_corr = df_corr.replace({'content_rating': 'PG-13'}, {'content_rating': 2})\n",
    "df_corr = df_corr.replace({'content_rating': 'R'}, {'content_rating': 3})\n",
    "df_corr = df_corr.replace({'content_rating': 'NC-17'}, {'content_rating': 4})"
   ]
  },
  {
   "cell_type": "code",
   "execution_count": 91,
   "metadata": {},
   "outputs": [],
   "source": [
    "# Change content rating column from object to numeric\n",
    "df_corr = df_corr.infer_objects()"
   ]
  },
  {
   "cell_type": "code",
   "execution_count": 92,
   "metadata": {},
   "outputs": [
    {
     "data": {
      "text/plain": [
       "array([2, 1, 0, 3, 4], dtype=int64)"
      ]
     },
     "execution_count": 92,
     "metadata": {},
     "output_type": "execute_result"
    }
   ],
   "source": [
    "# Check content rating values and type\n",
    "df_corr.content_rating.unique()"
   ]
  },
  {
   "cell_type": "code",
   "execution_count": 93,
   "metadata": {},
   "outputs": [],
   "source": [
    "df1_corr = df_corr.drop(['director_name', 'actor_1_name', 'actor_2_name', 'actor_3_name', 'movie_title', 'country'], axis=1)"
   ]
  },
  {
   "cell_type": "code",
   "execution_count": 94,
   "metadata": {
    "scrolled": false
   },
   "outputs": [
    {
     "data": {
      "text/html": [
       "<div>\n",
       "<style scoped>\n",
       "    .dataframe tbody tr th:only-of-type {\n",
       "        vertical-align: middle;\n",
       "    }\n",
       "\n",
       "    .dataframe tbody tr th {\n",
       "        vertical-align: top;\n",
       "    }\n",
       "\n",
       "    .dataframe thead th {\n",
       "        text-align: right;\n",
       "    }\n",
       "</style>\n",
       "<table border=\"1\" class=\"dataframe\">\n",
       "  <thead>\n",
       "    <tr style=\"text-align: right;\">\n",
       "      <th></th>\n",
       "      <th>num_critic_for_reviews</th>\n",
       "      <th>duration</th>\n",
       "      <th>director_facebook_likes</th>\n",
       "      <th>gross</th>\n",
       "      <th>num_voted_users</th>\n",
       "      <th>cast_total_facebook_likes</th>\n",
       "      <th>facenumber_in_poster</th>\n",
       "      <th>num_user_for_reviews</th>\n",
       "      <th>content_rating</th>\n",
       "      <th>budget</th>\n",
       "      <th>title_year</th>\n",
       "      <th>imdb_score</th>\n",
       "      <th>movie_facebook_likes</th>\n",
       "      <th>top_3_actors_likes</th>\n",
       "      <th>profit</th>\n",
       "      <th>roi_ratio</th>\n",
       "      <th>dir_avg_score</th>\n",
       "    </tr>\n",
       "  </thead>\n",
       "  <tbody>\n",
       "    <tr>\n",
       "      <th>num_critic_for_reviews</th>\n",
       "      <td>1.000000</td>\n",
       "      <td>0.228631</td>\n",
       "      <td>0.175128</td>\n",
       "      <td>0.464187</td>\n",
       "      <td>0.592473</td>\n",
       "      <td>0.236533</td>\n",
       "      <td>-0.034365</td>\n",
       "      <td>0.563684</td>\n",
       "      <td>0.069851</td>\n",
       "      <td>0.104717</td>\n",
       "      <td>0.420202</td>\n",
       "      <td>0.347886</td>\n",
       "      <td>0.705226</td>\n",
       "      <td>0.226519</td>\n",
       "      <td>0.039029</td>\n",
       "      <td>0.032607</td>\n",
       "      <td>0.372503</td>\n",
       "    </tr>\n",
       "    <tr>\n",
       "      <th>duration</th>\n",
       "      <td>0.228631</td>\n",
       "      <td>1.000000</td>\n",
       "      <td>0.180644</td>\n",
       "      <td>0.245726</td>\n",
       "      <td>0.339592</td>\n",
       "      <td>0.120179</td>\n",
       "      <td>0.026919</td>\n",
       "      <td>0.351595</td>\n",
       "      <td>0.090448</td>\n",
       "      <td>0.068012</td>\n",
       "      <td>-0.130211</td>\n",
       "      <td>0.366221</td>\n",
       "      <td>0.215303</td>\n",
       "      <td>0.114314</td>\n",
       "      <td>0.008296</td>\n",
       "      <td>-0.033681</td>\n",
       "      <td>0.361773</td>\n",
       "    </tr>\n",
       "    <tr>\n",
       "      <th>director_facebook_likes</th>\n",
       "      <td>0.175128</td>\n",
       "      <td>0.180644</td>\n",
       "      <td>1.000000</td>\n",
       "      <td>0.138351</td>\n",
       "      <td>0.299624</td>\n",
       "      <td>0.118547</td>\n",
       "      <td>-0.048067</td>\n",
       "      <td>0.217103</td>\n",
       "      <td>0.012837</td>\n",
       "      <td>0.018167</td>\n",
       "      <td>-0.044656</td>\n",
       "      <td>0.192314</td>\n",
       "      <td>0.161962</td>\n",
       "      <td>0.115319</td>\n",
       "      <td>0.024455</td>\n",
       "      <td>-0.006600</td>\n",
       "      <td>0.229942</td>\n",
       "    </tr>\n",
       "    <tr>\n",
       "      <th>gross</th>\n",
       "      <td>0.464187</td>\n",
       "      <td>0.245726</td>\n",
       "      <td>0.138351</td>\n",
       "      <td>1.000000</td>\n",
       "      <td>0.624949</td>\n",
       "      <td>0.235601</td>\n",
       "      <td>-0.032025</td>\n",
       "      <td>0.544674</td>\n",
       "      <td>-0.276183</td>\n",
       "      <td>0.099496</td>\n",
       "      <td>0.054808</td>\n",
       "      <td>0.214740</td>\n",
       "      <td>0.366933</td>\n",
       "      <td>0.212881</td>\n",
       "      <td>0.208033</td>\n",
       "      <td>0.017804</td>\n",
       "      <td>0.180292</td>\n",
       "    </tr>\n",
       "    <tr>\n",
       "      <th>num_voted_users</th>\n",
       "      <td>0.592473</td>\n",
       "      <td>0.339592</td>\n",
       "      <td>0.299624</td>\n",
       "      <td>0.624949</td>\n",
       "      <td>1.000000</td>\n",
       "      <td>0.249119</td>\n",
       "      <td>-0.032209</td>\n",
       "      <td>0.778881</td>\n",
       "      <td>0.007462</td>\n",
       "      <td>0.065927</td>\n",
       "      <td>0.023687</td>\n",
       "      <td>0.482430</td>\n",
       "      <td>0.517751</td>\n",
       "      <td>0.237386</td>\n",
       "      <td>0.126327</td>\n",
       "      <td>0.009859</td>\n",
       "      <td>0.380153</td>\n",
       "    </tr>\n",
       "    <tr>\n",
       "      <th>cast_total_facebook_likes</th>\n",
       "      <td>0.236533</td>\n",
       "      <td>0.120179</td>\n",
       "      <td>0.118547</td>\n",
       "      <td>0.235601</td>\n",
       "      <td>0.249119</td>\n",
       "      <td>1.000000</td>\n",
       "      <td>0.080687</td>\n",
       "      <td>0.178675</td>\n",
       "      <td>-0.009827</td>\n",
       "      <td>0.028682</td>\n",
       "      <td>0.127045</td>\n",
       "      <td>0.106803</td>\n",
       "      <td>0.205564</td>\n",
       "      <td>0.997212</td>\n",
       "      <td>0.043862</td>\n",
       "      <td>-0.019291</td>\n",
       "      <td>0.111187</td>\n",
       "    </tr>\n",
       "    <tr>\n",
       "      <th>facenumber_in_poster</th>\n",
       "      <td>-0.034365</td>\n",
       "      <td>0.026919</td>\n",
       "      <td>-0.048067</td>\n",
       "      <td>-0.032025</td>\n",
       "      <td>-0.032209</td>\n",
       "      <td>0.080687</td>\n",
       "      <td>1.000000</td>\n",
       "      <td>-0.080971</td>\n",
       "      <td>0.017135</td>\n",
       "      <td>-0.021673</td>\n",
       "      <td>0.070093</td>\n",
       "      <td>-0.065493</td>\n",
       "      <td>0.015185</td>\n",
       "      <td>0.076703</td>\n",
       "      <td>0.011510</td>\n",
       "      <td>-0.013789</td>\n",
       "      <td>-0.062883</td>\n",
       "    </tr>\n",
       "    <tr>\n",
       "      <th>num_user_for_reviews</th>\n",
       "      <td>0.563684</td>\n",
       "      <td>0.351595</td>\n",
       "      <td>0.217103</td>\n",
       "      <td>0.544674</td>\n",
       "      <td>0.778881</td>\n",
       "      <td>0.178675</td>\n",
       "      <td>-0.080971</td>\n",
       "      <td>1.000000</td>\n",
       "      <td>0.045573</td>\n",
       "      <td>0.070372</td>\n",
       "      <td>0.019470</td>\n",
       "      <td>0.325003</td>\n",
       "      <td>0.370465</td>\n",
       "      <td>0.168669</td>\n",
       "      <td>0.097406</td>\n",
       "      <td>0.068445</td>\n",
       "      <td>0.275222</td>\n",
       "    </tr>\n",
       "    <tr>\n",
       "      <th>content_rating</th>\n",
       "      <td>0.069851</td>\n",
       "      <td>0.090448</td>\n",
       "      <td>0.012837</td>\n",
       "      <td>-0.276183</td>\n",
       "      <td>0.007462</td>\n",
       "      <td>-0.009827</td>\n",
       "      <td>0.017135</td>\n",
       "      <td>0.045573</td>\n",
       "      <td>1.000000</td>\n",
       "      <td>-0.035209</td>\n",
       "      <td>-0.014291</td>\n",
       "      <td>0.133825</td>\n",
       "      <td>0.011394</td>\n",
       "      <td>-0.003837</td>\n",
       "      <td>-0.049856</td>\n",
       "      <td>0.023948</td>\n",
       "      <td>0.093724</td>\n",
       "    </tr>\n",
       "    <tr>\n",
       "      <th>budget</th>\n",
       "      <td>0.104717</td>\n",
       "      <td>0.068012</td>\n",
       "      <td>0.018167</td>\n",
       "      <td>0.099496</td>\n",
       "      <td>0.065927</td>\n",
       "      <td>0.028682</td>\n",
       "      <td>-0.021673</td>\n",
       "      <td>0.070372</td>\n",
       "      <td>-0.035209</td>\n",
       "      <td>1.000000</td>\n",
       "      <td>0.047138</td>\n",
       "      <td>0.029190</td>\n",
       "      <td>0.052490</td>\n",
       "      <td>0.026547</td>\n",
       "      <td>-0.952570</td>\n",
       "      <td>-0.008189</td>\n",
       "      <td>0.051556</td>\n",
       "    </tr>\n",
       "    <tr>\n",
       "      <th>title_year</th>\n",
       "      <td>0.420202</td>\n",
       "      <td>-0.130211</td>\n",
       "      <td>-0.044656</td>\n",
       "      <td>0.054808</td>\n",
       "      <td>0.023687</td>\n",
       "      <td>0.127045</td>\n",
       "      <td>0.070093</td>\n",
       "      <td>0.019470</td>\n",
       "      <td>-0.014291</td>\n",
       "      <td>0.047138</td>\n",
       "      <td>1.000000</td>\n",
       "      <td>-0.134982</td>\n",
       "      <td>0.306987</td>\n",
       "      <td>0.122369</td>\n",
       "      <td>-0.029575</td>\n",
       "      <td>-0.016253</td>\n",
       "      <td>-0.060118</td>\n",
       "    </tr>\n",
       "    <tr>\n",
       "      <th>imdb_score</th>\n",
       "      <td>0.347886</td>\n",
       "      <td>0.366221</td>\n",
       "      <td>0.192314</td>\n",
       "      <td>0.214740</td>\n",
       "      <td>0.482430</td>\n",
       "      <td>0.106803</td>\n",
       "      <td>-0.065493</td>\n",
       "      <td>0.325003</td>\n",
       "      <td>0.133825</td>\n",
       "      <td>0.029190</td>\n",
       "      <td>-0.134982</td>\n",
       "      <td>1.000000</td>\n",
       "      <td>0.281155</td>\n",
       "      <td>0.109993</td>\n",
       "      <td>0.036982</td>\n",
       "      <td>0.010482</td>\n",
       "      <td>0.836356</td>\n",
       "    </tr>\n",
       "    <tr>\n",
       "      <th>movie_facebook_likes</th>\n",
       "      <td>0.705226</td>\n",
       "      <td>0.215303</td>\n",
       "      <td>0.161962</td>\n",
       "      <td>0.366933</td>\n",
       "      <td>0.517751</td>\n",
       "      <td>0.205564</td>\n",
       "      <td>0.015185</td>\n",
       "      <td>0.370465</td>\n",
       "      <td>0.011394</td>\n",
       "      <td>0.052490</td>\n",
       "      <td>0.306987</td>\n",
       "      <td>0.281155</td>\n",
       "      <td>1.000000</td>\n",
       "      <td>0.193614</td>\n",
       "      <td>0.060624</td>\n",
       "      <td>-0.003268</td>\n",
       "      <td>0.271153</td>\n",
       "    </tr>\n",
       "    <tr>\n",
       "      <th>top_3_actors_likes</th>\n",
       "      <td>0.226519</td>\n",
       "      <td>0.114314</td>\n",
       "      <td>0.115319</td>\n",
       "      <td>0.212881</td>\n",
       "      <td>0.237386</td>\n",
       "      <td>0.997212</td>\n",
       "      <td>0.076703</td>\n",
       "      <td>0.168669</td>\n",
       "      <td>-0.003837</td>\n",
       "      <td>0.026547</td>\n",
       "      <td>0.122369</td>\n",
       "      <td>0.109993</td>\n",
       "      <td>0.193614</td>\n",
       "      <td>1.000000</td>\n",
       "      <td>0.039012</td>\n",
       "      <td>-0.018311</td>\n",
       "      <td>0.114401</td>\n",
       "    </tr>\n",
       "    <tr>\n",
       "      <th>profit</th>\n",
       "      <td>0.039029</td>\n",
       "      <td>0.008296</td>\n",
       "      <td>0.024455</td>\n",
       "      <td>0.208033</td>\n",
       "      <td>0.126327</td>\n",
       "      <td>0.043862</td>\n",
       "      <td>0.011510</td>\n",
       "      <td>0.097406</td>\n",
       "      <td>-0.049856</td>\n",
       "      <td>-0.952570</td>\n",
       "      <td>-0.029575</td>\n",
       "      <td>0.036982</td>\n",
       "      <td>0.060624</td>\n",
       "      <td>0.039012</td>\n",
       "      <td>1.000000</td>\n",
       "      <td>0.013495</td>\n",
       "      <td>0.004461</td>\n",
       "    </tr>\n",
       "    <tr>\n",
       "      <th>roi_ratio</th>\n",
       "      <td>0.032607</td>\n",
       "      <td>-0.033681</td>\n",
       "      <td>-0.006600</td>\n",
       "      <td>0.017804</td>\n",
       "      <td>0.009859</td>\n",
       "      <td>-0.019291</td>\n",
       "      <td>-0.013789</td>\n",
       "      <td>0.068445</td>\n",
       "      <td>0.023948</td>\n",
       "      <td>-0.008189</td>\n",
       "      <td>-0.016253</td>\n",
       "      <td>0.010482</td>\n",
       "      <td>-0.003268</td>\n",
       "      <td>-0.018311</td>\n",
       "      <td>0.013495</td>\n",
       "      <td>1.000000</td>\n",
       "      <td>0.004558</td>\n",
       "    </tr>\n",
       "    <tr>\n",
       "      <th>dir_avg_score</th>\n",
       "      <td>0.372503</td>\n",
       "      <td>0.361773</td>\n",
       "      <td>0.229942</td>\n",
       "      <td>0.180292</td>\n",
       "      <td>0.380153</td>\n",
       "      <td>0.111187</td>\n",
       "      <td>-0.062883</td>\n",
       "      <td>0.275222</td>\n",
       "      <td>0.093724</td>\n",
       "      <td>0.051556</td>\n",
       "      <td>-0.060118</td>\n",
       "      <td>0.836356</td>\n",
       "      <td>0.271153</td>\n",
       "      <td>0.114401</td>\n",
       "      <td>0.004461</td>\n",
       "      <td>0.004558</td>\n",
       "      <td>1.000000</td>\n",
       "    </tr>\n",
       "  </tbody>\n",
       "</table>\n",
       "</div>"
      ],
      "text/plain": [
       "                           num_critic_for_reviews  duration  \\\n",
       "num_critic_for_reviews                   1.000000  0.228631   \n",
       "duration                                 0.228631  1.000000   \n",
       "director_facebook_likes                  0.175128  0.180644   \n",
       "gross                                    0.464187  0.245726   \n",
       "num_voted_users                          0.592473  0.339592   \n",
       "cast_total_facebook_likes                0.236533  0.120179   \n",
       "facenumber_in_poster                    -0.034365  0.026919   \n",
       "num_user_for_reviews                     0.563684  0.351595   \n",
       "content_rating                           0.069851  0.090448   \n",
       "budget                                   0.104717  0.068012   \n",
       "title_year                               0.420202 -0.130211   \n",
       "imdb_score                               0.347886  0.366221   \n",
       "movie_facebook_likes                     0.705226  0.215303   \n",
       "top_3_actors_likes                       0.226519  0.114314   \n",
       "profit                                   0.039029  0.008296   \n",
       "roi_ratio                                0.032607 -0.033681   \n",
       "dir_avg_score                            0.372503  0.361773   \n",
       "\n",
       "                           director_facebook_likes     gross  num_voted_users  \\\n",
       "num_critic_for_reviews                    0.175128  0.464187         0.592473   \n",
       "duration                                  0.180644  0.245726         0.339592   \n",
       "director_facebook_likes                   1.000000  0.138351         0.299624   \n",
       "gross                                     0.138351  1.000000         0.624949   \n",
       "num_voted_users                           0.299624  0.624949         1.000000   \n",
       "cast_total_facebook_likes                 0.118547  0.235601         0.249119   \n",
       "facenumber_in_poster                     -0.048067 -0.032025        -0.032209   \n",
       "num_user_for_reviews                      0.217103  0.544674         0.778881   \n",
       "content_rating                            0.012837 -0.276183         0.007462   \n",
       "budget                                    0.018167  0.099496         0.065927   \n",
       "title_year                               -0.044656  0.054808         0.023687   \n",
       "imdb_score                                0.192314  0.214740         0.482430   \n",
       "movie_facebook_likes                      0.161962  0.366933         0.517751   \n",
       "top_3_actors_likes                        0.115319  0.212881         0.237386   \n",
       "profit                                    0.024455  0.208033         0.126327   \n",
       "roi_ratio                                -0.006600  0.017804         0.009859   \n",
       "dir_avg_score                             0.229942  0.180292         0.380153   \n",
       "\n",
       "                           cast_total_facebook_likes  facenumber_in_poster  \\\n",
       "num_critic_for_reviews                      0.236533             -0.034365   \n",
       "duration                                    0.120179              0.026919   \n",
       "director_facebook_likes                     0.118547             -0.048067   \n",
       "gross                                       0.235601             -0.032025   \n",
       "num_voted_users                             0.249119             -0.032209   \n",
       "cast_total_facebook_likes                   1.000000              0.080687   \n",
       "facenumber_in_poster                        0.080687              1.000000   \n",
       "num_user_for_reviews                        0.178675             -0.080971   \n",
       "content_rating                             -0.009827              0.017135   \n",
       "budget                                      0.028682             -0.021673   \n",
       "title_year                                  0.127045              0.070093   \n",
       "imdb_score                                  0.106803             -0.065493   \n",
       "movie_facebook_likes                        0.205564              0.015185   \n",
       "top_3_actors_likes                          0.997212              0.076703   \n",
       "profit                                      0.043862              0.011510   \n",
       "roi_ratio                                  -0.019291             -0.013789   \n",
       "dir_avg_score                               0.111187             -0.062883   \n",
       "\n",
       "                           num_user_for_reviews  content_rating    budget  \\\n",
       "num_critic_for_reviews                 0.563684        0.069851  0.104717   \n",
       "duration                               0.351595        0.090448  0.068012   \n",
       "director_facebook_likes                0.217103        0.012837  0.018167   \n",
       "gross                                  0.544674       -0.276183  0.099496   \n",
       "num_voted_users                        0.778881        0.007462  0.065927   \n",
       "cast_total_facebook_likes              0.178675       -0.009827  0.028682   \n",
       "facenumber_in_poster                  -0.080971        0.017135 -0.021673   \n",
       "num_user_for_reviews                   1.000000        0.045573  0.070372   \n",
       "content_rating                         0.045573        1.000000 -0.035209   \n",
       "budget                                 0.070372       -0.035209  1.000000   \n",
       "title_year                             0.019470       -0.014291  0.047138   \n",
       "imdb_score                             0.325003        0.133825  0.029190   \n",
       "movie_facebook_likes                   0.370465        0.011394  0.052490   \n",
       "top_3_actors_likes                     0.168669       -0.003837  0.026547   \n",
       "profit                                 0.097406       -0.049856 -0.952570   \n",
       "roi_ratio                              0.068445        0.023948 -0.008189   \n",
       "dir_avg_score                          0.275222        0.093724  0.051556   \n",
       "\n",
       "                           title_year  imdb_score  movie_facebook_likes  \\\n",
       "num_critic_for_reviews       0.420202    0.347886              0.705226   \n",
       "duration                    -0.130211    0.366221              0.215303   \n",
       "director_facebook_likes     -0.044656    0.192314              0.161962   \n",
       "gross                        0.054808    0.214740              0.366933   \n",
       "num_voted_users              0.023687    0.482430              0.517751   \n",
       "cast_total_facebook_likes    0.127045    0.106803              0.205564   \n",
       "facenumber_in_poster         0.070093   -0.065493              0.015185   \n",
       "num_user_for_reviews         0.019470    0.325003              0.370465   \n",
       "content_rating              -0.014291    0.133825              0.011394   \n",
       "budget                       0.047138    0.029190              0.052490   \n",
       "title_year                   1.000000   -0.134982              0.306987   \n",
       "imdb_score                  -0.134982    1.000000              0.281155   \n",
       "movie_facebook_likes         0.306987    0.281155              1.000000   \n",
       "top_3_actors_likes           0.122369    0.109993              0.193614   \n",
       "profit                      -0.029575    0.036982              0.060624   \n",
       "roi_ratio                   -0.016253    0.010482             -0.003268   \n",
       "dir_avg_score               -0.060118    0.836356              0.271153   \n",
       "\n",
       "                           top_3_actors_likes    profit  roi_ratio  \\\n",
       "num_critic_for_reviews               0.226519  0.039029   0.032607   \n",
       "duration                             0.114314  0.008296  -0.033681   \n",
       "director_facebook_likes              0.115319  0.024455  -0.006600   \n",
       "gross                                0.212881  0.208033   0.017804   \n",
       "num_voted_users                      0.237386  0.126327   0.009859   \n",
       "cast_total_facebook_likes            0.997212  0.043862  -0.019291   \n",
       "facenumber_in_poster                 0.076703  0.011510  -0.013789   \n",
       "num_user_for_reviews                 0.168669  0.097406   0.068445   \n",
       "content_rating                      -0.003837 -0.049856   0.023948   \n",
       "budget                               0.026547 -0.952570  -0.008189   \n",
       "title_year                           0.122369 -0.029575  -0.016253   \n",
       "imdb_score                           0.109993  0.036982   0.010482   \n",
       "movie_facebook_likes                 0.193614  0.060624  -0.003268   \n",
       "top_3_actors_likes                   1.000000  0.039012  -0.018311   \n",
       "profit                               0.039012  1.000000   0.013495   \n",
       "roi_ratio                           -0.018311  0.013495   1.000000   \n",
       "dir_avg_score                        0.114401  0.004461   0.004558   \n",
       "\n",
       "                           dir_avg_score  \n",
       "num_critic_for_reviews          0.372503  \n",
       "duration                        0.361773  \n",
       "director_facebook_likes         0.229942  \n",
       "gross                           0.180292  \n",
       "num_voted_users                 0.380153  \n",
       "cast_total_facebook_likes       0.111187  \n",
       "facenumber_in_poster           -0.062883  \n",
       "num_user_for_reviews            0.275222  \n",
       "content_rating                  0.093724  \n",
       "budget                          0.051556  \n",
       "title_year                     -0.060118  \n",
       "imdb_score                      0.836356  \n",
       "movie_facebook_likes            0.271153  \n",
       "top_3_actors_likes              0.114401  \n",
       "profit                          0.004461  \n",
       "roi_ratio                       0.004558  \n",
       "dir_avg_score                   1.000000  "
      ]
     },
     "execution_count": 94,
     "metadata": {},
     "output_type": "execute_result"
    }
   ],
   "source": [
    "# Correlation testing\n",
    "df1_corr.corr()"
   ]
  },
  {
   "cell_type": "code",
   "execution_count": 95,
   "metadata": {},
   "outputs": [
    {
     "data": {
      "text/plain": [
       "<matplotlib.axes._subplots.AxesSubplot at 0x12c6a3c8>"
      ]
     },
     "execution_count": 95,
     "metadata": {},
     "output_type": "execute_result"
    },
    {
     "data": {
      "image/png": "[encoded data removed]",
      "text/plain": [
       "<Figure size 864x864 with 2 Axes>"
      ]
     },
     "metadata": {},
     "output_type": "display_data"
    }
   ],
   "source": [
    "# Correlation heatmap\n",
    "plt.figure(figsize=(12,12))\n",
    "sns.heatmap(df1_corr.corr(), annot=True, fmt=\".2f\", cmap='bone')"
   ]
  },
  {
   "cell_type": "markdown",
   "metadata": {},
   "source": [
    "### From this heatmap, we can see that the director's average IMDb score, amount of facebook likes the movie has,\n",
    "### the movie's duration, and the amount of people who voted/reviewed on IMDb have the highest positive correlation with IMDb score.\n",
    "### The movie the year was made is negative. This means that the older a movie is, the higher its rating. This factor however, will not\n",
    "### help us predict the success of future movies.\n",
    "### Factors that are irrelevant for prediction can be removed.\n",
    "- Title year\n",
    "\n",
    "### The insignificant factors, which I will consider a <|0.15| correlation, can also be removed in order to easier find the most correlated factors.\n",
    "- ROI ratio\n",
    "- Profit\n",
    "- Top 3 actors' Facebook likes\n",
    "- Budget\n",
    "- Content rating\n",
    "- Face number in poster\n",
    "- Cast total Facebook likes"
   ]
  },
  {
   "cell_type": "code",
   "execution_count": 96,
   "metadata": {},
   "outputs": [],
   "source": [
    "df_corr.drop\n",
    "df1_corr = df_corr.drop(['roi_ratio', 'profit', 'budget', 'facenumber_in_poster', 'top_3_actors_likes', 'title_year', 'content_rating', 'cast_total_facebook_likes'], axis=1)"
   ]
  },
  {
   "cell_type": "code",
   "execution_count": 97,
   "metadata": {},
   "outputs": [
    {
     "data": {
      "text/plain": [
       "<matplotlib.axes._subplots.AxesSubplot at 0x163c9b38>"
      ]
     },
     "execution_count": 97,
     "metadata": {},
     "output_type": "execute_result"
    },
    {
     "data": {
      "image/png": "[encoded data removed]",
      "text/plain": [
       "<Figure size 864x864 with 2 Axes>"
      ]
     },
     "metadata": {},
     "output_type": "display_data"
    }
   ],
   "source": [
    "# Correlation heatmap\n",
    "plt.figure(figsize=(12,12))\n",
    "sns.heatmap(df1_corr.corr(), annot=True, fmt=\".2f\", cmap='bone')"
   ]
  },
  {
   "cell_type": "markdown",
   "metadata": {},
   "source": [
    "### This further analysis of the heatmap shows the top correlating factors when determining the success of a movie. In order from most to least:\n",
    "- Director's average score\n",
    "- Number of users who voted on IMDb\n",
    "- Duration\n",
    "- Number of critics who wrote reviews on IMDb\n",
    "- Number of users who wrote reviews on IMDb\n",
    "- Amount of Facebook likes for the movie\n",
    "- Gross earnings\n",
    "- Amount of Facebook likes for the director"
   ]
  },
  {
   "cell_type": "markdown",
   "metadata": {},
   "source": [
    "## Storytelling"
   ]
  },
  {
   "cell_type": "markdown",
   "metadata": {},
   "source": [
    "### There are several factors that go into predicting the success of a movie. The highest correlated factors for any movie\n",
    "### are dependent on the director: their past history and their popularity on Facebook. "
   ]
  },
  {
   "cell_type": "markdown",
   "metadata": {},
   "source": [
    "### NC-17 films have a higher than average rating compared to the other content rating categories."
   ]
  },
  {
   "cell_type": "markdown",
   "metadata": {},
   "source": [
    "### If the movie has a more adult content rating, a longer duration may positively affect the success. However,\n",
    "### a longer duration for a 'G' movie would not influence success as much."
   ]
  },
  {
   "cell_type": "markdown",
   "metadata": {},
   "source": [
    "### The higher the amount of popularity -- whether in the form of votes, review, or Facebook likes -- are a great determinate of the movie's potential success. "
   ]
  },
  {
   "cell_type": "markdown",
   "metadata": {},
   "source": [
    "### The profit of a movie is surprisingly not correlated to its success. This applies to movies with large and small budgets."
   ]
  },
  {
   "cell_type": "markdown",
   "metadata": {},
   "source": [
    "## Categorization"
   ]
  },
  {
   "cell_type": "code",
   "execution_count": 98,
   "metadata": {},
   "outputs": [
    {
     "data": {
      "text/html": [
       "<div>\n",
       "<style scoped>\n",
       "    .dataframe tbody tr th:only-of-type {\n",
       "        vertical-align: middle;\n",
       "    }\n",
       "\n",
       "    .dataframe tbody tr th {\n",
       "        vertical-align: top;\n",
       "    }\n",
       "\n",
       "    .dataframe thead th {\n",
       "        text-align: right;\n",
       "    }\n",
       "</style>\n",
       "<table border=\"1\" class=\"dataframe\">\n",
       "  <thead>\n",
       "    <tr style=\"text-align: right;\">\n",
       "      <th></th>\n",
       "      <th>director_name</th>\n",
       "      <th>num_critic_for_reviews</th>\n",
       "      <th>duration</th>\n",
       "      <th>director_facebook_likes</th>\n",
       "      <th>actor_2_name</th>\n",
       "      <th>gross</th>\n",
       "      <th>actor_1_name</th>\n",
       "      <th>movie_title</th>\n",
       "      <th>num_voted_users</th>\n",
       "      <th>cast_total_facebook_likes</th>\n",
       "      <th>...</th>\n",
       "      <th>country</th>\n",
       "      <th>content_rating</th>\n",
       "      <th>budget</th>\n",
       "      <th>title_year</th>\n",
       "      <th>imdb_score</th>\n",
       "      <th>movie_facebook_likes</th>\n",
       "      <th>top_3_actors_likes</th>\n",
       "      <th>profit</th>\n",
       "      <th>roi_ratio</th>\n",
       "      <th>dir_avg_score</th>\n",
       "    </tr>\n",
       "  </thead>\n",
       "  <tbody>\n",
       "    <tr>\n",
       "      <th>0</th>\n",
       "      <td>James Cameron</td>\n",
       "      <td>723.0</td>\n",
       "      <td>178.0</td>\n",
       "      <td>0.0</td>\n",
       "      <td>Joel David Moore</td>\n",
       "      <td>760505847.0</td>\n",
       "      <td>CCH Pounder</td>\n",
       "      <td>Avatar</td>\n",
       "      <td>886204</td>\n",
       "      <td>4834</td>\n",
       "      <td>...</td>\n",
       "      <td>USA</td>\n",
       "      <td>2</td>\n",
       "      <td>237000000.0</td>\n",
       "      <td>2009.0</td>\n",
       "      <td>7.9</td>\n",
       "      <td>33000</td>\n",
       "      <td>2791.0</td>\n",
       "      <td>523505847.0</td>\n",
       "      <td>2.208885</td>\n",
       "      <td>7.914286</td>\n",
       "    </tr>\n",
       "    <tr>\n",
       "      <th>1</th>\n",
       "      <td>Gore Verbinski</td>\n",
       "      <td>302.0</td>\n",
       "      <td>169.0</td>\n",
       "      <td>563.0</td>\n",
       "      <td>Orlando Bloom</td>\n",
       "      <td>309404152.0</td>\n",
       "      <td>Johnny Depp</td>\n",
       "      <td>Pirates of the Caribbean: At World's End</td>\n",
       "      <td>471220</td>\n",
       "      <td>48350</td>\n",
       "      <td>...</td>\n",
       "      <td>USA</td>\n",
       "      <td>2</td>\n",
       "      <td>300000000.0</td>\n",
       "      <td>2007.0</td>\n",
       "      <td>7.1</td>\n",
       "      <td>0</td>\n",
       "      <td>46000.0</td>\n",
       "      <td>9404152.0</td>\n",
       "      <td>0.031347</td>\n",
       "      <td>6.985714</td>\n",
       "    </tr>\n",
       "    <tr>\n",
       "      <th>2</th>\n",
       "      <td>Sam Mendes</td>\n",
       "      <td>602.0</td>\n",
       "      <td>148.0</td>\n",
       "      <td>0.0</td>\n",
       "      <td>Rory Kinnear</td>\n",
       "      <td>200074175.0</td>\n",
       "      <td>Christoph Waltz</td>\n",
       "      <td>Spectre</td>\n",
       "      <td>275868</td>\n",
       "      <td>11700</td>\n",
       "      <td>...</td>\n",
       "      <td>UK</td>\n",
       "      <td>2</td>\n",
       "      <td>245000000.0</td>\n",
       "      <td>2015.0</td>\n",
       "      <td>6.8</td>\n",
       "      <td>85000</td>\n",
       "      <td>11554.0</td>\n",
       "      <td>-44925825.0</td>\n",
       "      <td>-0.183371</td>\n",
       "      <td>7.500000</td>\n",
       "    </tr>\n",
       "    <tr>\n",
       "      <th>3</th>\n",
       "      <td>Christopher Nolan</td>\n",
       "      <td>813.0</td>\n",
       "      <td>164.0</td>\n",
       "      <td>22000.0</td>\n",
       "      <td>Christian Bale</td>\n",
       "      <td>448130642.0</td>\n",
       "      <td>Tom Hardy</td>\n",
       "      <td>The Dark Knight Rises</td>\n",
       "      <td>1144337</td>\n",
       "      <td>106759</td>\n",
       "      <td>...</td>\n",
       "      <td>USA</td>\n",
       "      <td>2</td>\n",
       "      <td>250000000.0</td>\n",
       "      <td>2012.0</td>\n",
       "      <td>8.5</td>\n",
       "      <td>164000</td>\n",
       "      <td>73000.0</td>\n",
       "      <td>198130642.0</td>\n",
       "      <td>0.792523</td>\n",
       "      <td>8.425000</td>\n",
       "    </tr>\n",
       "    <tr>\n",
       "      <th>5</th>\n",
       "      <td>Andrew Stanton</td>\n",
       "      <td>462.0</td>\n",
       "      <td>132.0</td>\n",
       "      <td>475.0</td>\n",
       "      <td>Samantha Morton</td>\n",
       "      <td>73058679.0</td>\n",
       "      <td>Daryl Sabara</td>\n",
       "      <td>John Carter</td>\n",
       "      <td>212204</td>\n",
       "      <td>1873</td>\n",
       "      <td>...</td>\n",
       "      <td>USA</td>\n",
       "      <td>2</td>\n",
       "      <td>263700000.0</td>\n",
       "      <td>2012.0</td>\n",
       "      <td>6.6</td>\n",
       "      <td>24000</td>\n",
       "      <td>1802.0</td>\n",
       "      <td>-190641321.0</td>\n",
       "      <td>-0.722948</td>\n",
       "      <td>7.733333</td>\n",
       "    </tr>\n",
       "  </tbody>\n",
       "</table>\n",
       "<p>5 rows × 23 columns</p>\n",
       "</div>"
      ],
      "text/plain": [
       "       director_name  num_critic_for_reviews  duration  \\\n",
       "0      James Cameron                   723.0     178.0   \n",
       "1     Gore Verbinski                   302.0     169.0   \n",
       "2         Sam Mendes                   602.0     148.0   \n",
       "3  Christopher Nolan                   813.0     164.0   \n",
       "5     Andrew Stanton                   462.0     132.0   \n",
       "\n",
       "   director_facebook_likes      actor_2_name        gross     actor_1_name  \\\n",
       "0                      0.0  Joel David Moore  760505847.0      CCH Pounder   \n",
       "1                    563.0     Orlando Bloom  309404152.0      Johnny Depp   \n",
       "2                      0.0      Rory Kinnear  200074175.0  Christoph Waltz   \n",
       "3                  22000.0    Christian Bale  448130642.0        Tom Hardy   \n",
       "5                    475.0   Samantha Morton   73058679.0     Daryl Sabara   \n",
       "\n",
       "                                 movie_title  num_voted_users  \\\n",
       "0                                    Avatar            886204   \n",
       "1  Pirates of the Caribbean: At World's End            471220   \n",
       "2                                   Spectre            275868   \n",
       "3                     The Dark Knight Rises           1144337   \n",
       "5                               John Carter            212204   \n",
       "\n",
       "   cast_total_facebook_likes      ...       country  content_rating  \\\n",
       "0                       4834      ...           USA               2   \n",
       "1                      48350      ...           USA               2   \n",
       "2                      11700      ...            UK               2   \n",
       "3                     106759      ...           USA               2   \n",
       "5                       1873      ...           USA               2   \n",
       "\n",
       "        budget title_year  imdb_score  movie_facebook_likes  \\\n",
       "0  237000000.0     2009.0         7.9                 33000   \n",
       "1  300000000.0     2007.0         7.1                     0   \n",
       "2  245000000.0     2015.0         6.8                 85000   \n",
       "3  250000000.0     2012.0         8.5                164000   \n",
       "5  263700000.0     2012.0         6.6                 24000   \n",
       "\n",
       "   top_3_actors_likes       profit  roi_ratio  dir_avg_score  \n",
       "0              2791.0  523505847.0   2.208885       7.914286  \n",
       "1             46000.0    9404152.0   0.031347       6.985714  \n",
       "2             11554.0  -44925825.0  -0.183371       7.500000  \n",
       "3             73000.0  198130642.0   0.792523       8.425000  \n",
       "5              1802.0 -190641321.0  -0.722948       7.733333  \n",
       "\n",
       "[5 rows x 23 columns]"
      ]
     },
     "execution_count": 98,
     "metadata": {},
     "output_type": "execute_result"
    }
   ],
   "source": [
    "# Reuse a previously cleaned and organized df, before many of the columns have been dropped.\n",
    "final = df_corr\n",
    "final.head()"
   ]
  },
  {
   "cell_type": "code",
   "execution_count": 99,
   "metadata": {},
   "outputs": [],
   "source": [
    "# Drop categorical columns with too many categories\n",
    "final1 = final.drop(['director_name', 'actor_1_name', 'actor_2_name', 'actor_3_name', 'country', 'movie_title'], axis=1)"
   ]
  },
  {
   "cell_type": "code",
   "execution_count": 100,
   "metadata": {},
   "outputs": [
    {
     "name": "stderr",
     "output_type": "stream",
     "text": [
      "C:\\Users\\zacha\\Anaconda2\\lib\\site-packages\\ipykernel_launcher.py:3: SettingWithCopyWarning: \n",
      "A value is trying to be set on a copy of a slice from a DataFrame\n",
      "\n",
      "See the caveats in the documentation: http://pandas.pydata.org/pandas-docs/stable/indexing.html#indexing-view-versus-copy\n",
      "  This is separate from the ipykernel package so we can avoid doing imports until\n",
      "C:\\Users\\zacha\\Anaconda2\\lib\\site-packages\\ipykernel_launcher.py:4: SettingWithCopyWarning: \n",
      "A value is trying to be set on a copy of a slice from a DataFrame\n",
      "\n",
      "See the caveats in the documentation: http://pandas.pydata.org/pandas-docs/stable/indexing.html#indexing-view-versus-copy\n",
      "  after removing the cwd from sys.path.\n",
      "C:\\Users\\zacha\\Anaconda2\\lib\\site-packages\\ipykernel_launcher.py:5: SettingWithCopyWarning: \n",
      "A value is trying to be set on a copy of a slice from a DataFrame\n",
      "\n",
      "See the caveats in the documentation: http://pandas.pydata.org/pandas-docs/stable/indexing.html#indexing-view-versus-copy\n",
      "  \"\"\"\n"
     ]
    }
   ],
   "source": [
    "# Categorize movies (bad[1], okay[2], good[3], excellent[4]) based on their imdb score.\n",
    "final1['category'] = 1\n",
    "final1['category'][(final1['imdb_score'] >= 4) & (final1['imdb_score'] < 6)] = 2\n",
    "final1['category'][(final1['imdb_score'] >= 6) & (final1['imdb_score'] < 8)] = 3\n",
    "final1['category'][final1['imdb_score'] > 8] = 4"
   ]
  },
  {
   "cell_type": "markdown",
   "metadata": {},
   "source": [
    "### Simple Regression"
   ]
  },
  {
   "cell_type": "code",
   "execution_count": 102,
   "metadata": {},
   "outputs": [],
   "source": [
    "# Define X & y\n",
    "y = final1['imdb_score']\n",
    "X = final1.drop(['category', 'imdb_score'], axis=1)"
   ]
  },
  {
   "cell_type": "code",
   "execution_count": 103,
   "metadata": {},
   "outputs": [
    {
     "name": "stdout",
     "output_type": "stream",
     "text": [
      "                            OLS Regression Results                            \n",
      "==============================================================================\n",
      "Dep. Variable:             imdb_score   R-squared:                       0.752\n",
      "Model:                            OLS   Adj. R-squared:                  0.751\n",
      "Method:                 Least Squares   F-statistic:                     756.7\n",
      "Date:                Mon, 03 Dec 2018   Prob (F-statistic):               0.00\n",
      "Time:                        12:08:32   Log-Likelihood:                -2914.8\n",
      "No. Observations:                3756   AIC:                             5862.\n",
      "Df Residuals:                    3740   BIC:                             5961.\n",
      "Df Model:                          15                                         \n",
      "Covariance Type:            nonrobust                                         \n",
      "=============================================================================================\n",
      "                                coef    std err          t      P>|t|      [0.025      0.975]\n",
      "---------------------------------------------------------------------------------------------\n",
      "Intercept                    18.7435      2.135      8.778      0.000      14.557      22.930\n",
      "num_critic_for_reviews    -4.519e-05      0.000     -0.351      0.726      -0.000       0.000\n",
      "duration                      0.0016      0.000      3.595      0.000       0.001       0.002\n",
      "director_facebook_likes   -1.855e-05   2.99e-06     -6.214      0.000   -2.44e-05   -1.27e-05\n",
      "gross                     -7.688e-07   8.75e-08     -8.782      0.000    -9.4e-07   -5.97e-07\n",
      "num_voted_users            2.156e-06    1.1e-07     19.571      0.000    1.94e-06    2.37e-06\n",
      "cast_total_facebook_likes -2.056e-05   6.45e-06     -3.187      0.001   -3.32e-05   -7.91e-06\n",
      "facenumber_in_poster         -0.0074      0.004     -1.729      0.084      -0.016       0.001\n",
      "num_user_for_reviews         -0.0003   3.63e-05     -7.152      0.000      -0.000      -0.000\n",
      "content_rating                0.0694      0.012      5.940      0.000       0.046       0.092\n",
      "budget                     7.683e-07   8.75e-08      8.777      0.000    5.97e-07     9.4e-07\n",
      "title_year                   -0.0092      0.001     -8.676      0.000      -0.011      -0.007\n",
      "movie_facebook_likes       2.712e-07   5.95e-07      0.456      0.649   -8.96e-07    1.44e-06\n",
      "top_3_actors_likes          2.05e-05    6.6e-06      3.104      0.002    7.55e-06    3.34e-05\n",
      "profit                     7.684e-07   8.75e-08      8.778      0.000    5.97e-07     9.4e-07\n",
      "roi_ratio                  7.084e-05   6.57e-05      1.079      0.281   -5.79e-05       0.000\n",
      "dir_avg_score                 0.8866      0.012     76.159      0.000       0.864       0.909\n",
      "==============================================================================\n",
      "Omnibus:                      570.898   Durbin-Watson:                   1.937\n",
      "Prob(Omnibus):                  0.000   Jarque-Bera (JB):             2300.868\n",
      "Skew:                          -0.702   Prob(JB):                         0.00\n",
      "Kurtosis:                       6.568   Cond. No.                     1.52e+16\n",
      "==============================================================================\n",
      "\n",
      "Warnings:\n",
      "[1] Standard Errors assume that the covariance matrix of the errors is correctly specified.\n",
      "[2] The smallest eigenvalue is 1.67e-12. This might indicate that there are\n",
      "strong multicollinearity problems or that the design matrix is singular.\n"
     ]
    }
   ],
   "source": [
    "reg_model = ols(\"imdb_score~num_critic_for_reviews+duration+director_facebook_likes+gross+num_voted_users+cast_total_facebook_likes+facenumber_in_poster+num_user_for_reviews+content_rating+budget+title_year+movie_facebook_likes+top_3_actors_likes+profit+roi_ratio+dir_avg_score\", final1)\n",
    "reg = reg_model.fit()\n",
    "print reg.summary()"
   ]
  },
  {
   "cell_type": "markdown",
   "metadata": {},
   "source": [
    "### Lasso"
   ]
  },
  {
   "cell_type": "code",
   "execution_count": 104,
   "metadata": {},
   "outputs": [
    {
     "name": "stderr",
     "output_type": "stream",
     "text": [
      "C:\\Users\\zacha\\Anaconda2\\lib\\site-packages\\sklearn\\linear_model\\coordinate_descent.py:491: ConvergenceWarning: Objective did not converge. You might want to increase the number of iterations. Fitting data with very small alpha may cause precision problems.\n",
      "  ConvergenceWarning)\n"
     ]
    }
   ],
   "source": [
    "#Fit the model\n",
    "lasso = lm.Lasso(alpha = 0.1)\n",
    "lasso.fit(X, y)\n",
    "lasso_y = lasso.predict(X)"
   ]
  },
  {
   "cell_type": "code",
   "execution_count": 105,
   "metadata": {},
   "outputs": [
    {
     "name": "stdout",
     "output_type": "stream",
     "text": [
      "Coefficients:  [ 5.00496839e-04  3.30794635e-03 -1.38718934e-05 -8.69792311e-10\n",
      "  2.51352350e-06 -3.03883928e-05 -0.00000000e+00 -3.08488937e-04\n",
      "  0.00000000e+00 -2.09060332e-10 -1.09178834e-02 -3.39182494e-07\n",
      "  3.05530065e-05 -1.45608771e-10  8.44755529e-05  7.11168394e-01]\n",
      "y-intercept  23.22345557951099\n"
     ]
    }
   ],
   "source": [
    "print 'Coefficients: ', lasso.coef_\n",
    "print \"y-intercept \", lasso.intercept_"
   ]
  },
  {
   "cell_type": "code",
   "execution_count": 106,
   "metadata": {},
   "outputs": [
    {
     "data": {
      "text/plain": [
       "[('num_critic_for_reviews', '0.001'),\n",
       " ('duration', '0.003'),\n",
       " ('director_facebook_likes', '-0.000'),\n",
       " ('gross', '-0.000'),\n",
       " ('num_voted_users', '0.000'),\n",
       " ('cast_total_facebook_likes', '-0.000'),\n",
       " ('facenumber_in_poster', '-0.000'),\n",
       " ('num_user_for_reviews', '-0.000'),\n",
       " ('content_rating', '0.000'),\n",
       " ('budget', '-0.000'),\n",
       " ('title_year', '-0.011'),\n",
       " ('movie_facebook_likes', '-0.000'),\n",
       " ('top_3_actors_likes', '0.000'),\n",
       " ('profit', '-0.000'),\n",
       " ('roi_ratio', '0.000'),\n",
       " ('dir_avg_score', '0.711')]"
      ]
     },
     "execution_count": 106,
     "metadata": {},
     "output_type": "execute_result"
    }
   ],
   "source": [
    "coef = [\"%.3f\" % i for i in lasso.coef_]\n",
    "xcolumns = [ i for i in X.columns ]\n",
    "zip(xcolumns, coef)"
   ]
  },
  {
   "cell_type": "code",
   "execution_count": 107,
   "metadata": {},
   "outputs": [
    {
     "data": {
      "text/html": [
       "<div>\n",
       "<style scoped>\n",
       "    .dataframe tbody tr th:only-of-type {\n",
       "        vertical-align: middle;\n",
       "    }\n",
       "\n",
       "    .dataframe tbody tr th {\n",
       "        vertical-align: top;\n",
       "    }\n",
       "\n",
       "    .dataframe thead th {\n",
       "        text-align: right;\n",
       "    }\n",
       "</style>\n",
       "<table border=\"1\" class=\"dataframe\">\n",
       "  <thead>\n",
       "    <tr style=\"text-align: right;\">\n",
       "      <th></th>\n",
       "      <th>0</th>\n",
       "      <th>1</th>\n",
       "    </tr>\n",
       "  </thead>\n",
       "  <tbody>\n",
       "    <tr>\n",
       "      <th>15</th>\n",
       "      <td>dir_avg_score</td>\n",
       "      <td>0.711</td>\n",
       "    </tr>\n",
       "    <tr>\n",
       "      <th>1</th>\n",
       "      <td>duration</td>\n",
       "      <td>0.003</td>\n",
       "    </tr>\n",
       "    <tr>\n",
       "      <th>0</th>\n",
       "      <td>num_critic_for_reviews</td>\n",
       "      <td>0.001</td>\n",
       "    </tr>\n",
       "    <tr>\n",
       "      <th>4</th>\n",
       "      <td>num_voted_users</td>\n",
       "      <td>0.000</td>\n",
       "    </tr>\n",
       "    <tr>\n",
       "      <th>8</th>\n",
       "      <td>content_rating</td>\n",
       "      <td>0.000</td>\n",
       "    </tr>\n",
       "    <tr>\n",
       "      <th>12</th>\n",
       "      <td>top_3_actors_likes</td>\n",
       "      <td>0.000</td>\n",
       "    </tr>\n",
       "    <tr>\n",
       "      <th>14</th>\n",
       "      <td>roi_ratio</td>\n",
       "      <td>0.000</td>\n",
       "    </tr>\n",
       "    <tr>\n",
       "      <th>10</th>\n",
       "      <td>title_year</td>\n",
       "      <td>-0.011</td>\n",
       "    </tr>\n",
       "    <tr>\n",
       "      <th>2</th>\n",
       "      <td>director_facebook_likes</td>\n",
       "      <td>-0.000</td>\n",
       "    </tr>\n",
       "    <tr>\n",
       "      <th>3</th>\n",
       "      <td>gross</td>\n",
       "      <td>-0.000</td>\n",
       "    </tr>\n",
       "    <tr>\n",
       "      <th>5</th>\n",
       "      <td>cast_total_facebook_likes</td>\n",
       "      <td>-0.000</td>\n",
       "    </tr>\n",
       "    <tr>\n",
       "      <th>6</th>\n",
       "      <td>facenumber_in_poster</td>\n",
       "      <td>-0.000</td>\n",
       "    </tr>\n",
       "    <tr>\n",
       "      <th>7</th>\n",
       "      <td>num_user_for_reviews</td>\n",
       "      <td>-0.000</td>\n",
       "    </tr>\n",
       "    <tr>\n",
       "      <th>9</th>\n",
       "      <td>budget</td>\n",
       "      <td>-0.000</td>\n",
       "    </tr>\n",
       "    <tr>\n",
       "      <th>11</th>\n",
       "      <td>movie_facebook_likes</td>\n",
       "      <td>-0.000</td>\n",
       "    </tr>\n",
       "    <tr>\n",
       "      <th>13</th>\n",
       "      <td>profit</td>\n",
       "      <td>-0.000</td>\n",
       "    </tr>\n",
       "  </tbody>\n",
       "</table>\n",
       "</div>"
      ],
      "text/plain": [
       "                            0       1\n",
       "15              dir_avg_score   0.711\n",
       "1                    duration   0.003\n",
       "0      num_critic_for_reviews   0.001\n",
       "4             num_voted_users   0.000\n",
       "8              content_rating   0.000\n",
       "12         top_3_actors_likes   0.000\n",
       "14                  roi_ratio   0.000\n",
       "10                 title_year  -0.011\n",
       "2     director_facebook_likes  -0.000\n",
       "3                       gross  -0.000\n",
       "5   cast_total_facebook_likes  -0.000\n",
       "6        facenumber_in_poster  -0.000\n",
       "7        num_user_for_reviews  -0.000\n",
       "9                      budget  -0.000\n",
       "11       movie_facebook_likes  -0.000\n",
       "13                     profit  -0.000"
      ]
     },
     "execution_count": 107,
     "metadata": {},
     "output_type": "execute_result"
    }
   ],
   "source": [
    "a = zip(xcolumns, coef)\n",
    "df = pd.DataFrame(a)\n",
    "df.sort_values(1, ascending=False)"
   ]
  },
  {
   "cell_type": "markdown",
   "metadata": {},
   "source": [
    "### The lasso regression removes most of the variables, leaving only dir_avg_score, duration, and num_critic_for_reviews. The removed variables have coefficients close to 0 or are negative. I like this model, but would prefer the number of users as opposed to the number of critics."
   ]
  },
  {
   "cell_type": "code",
   "execution_count": 108,
   "metadata": {},
   "outputs": [
    {
     "name": "stdout",
     "output_type": "stream",
     "text": [
      "variance or r-squared:  0.734038181557709\n"
     ]
    }
   ],
   "source": [
    "print \"variance or r-squared: \", explained_variance_score(y, lasso_y)"
   ]
  },
  {
   "cell_type": "markdown",
   "metadata": {},
   "source": [
    "### F Selection"
   ]
  },
  {
   "cell_type": "code",
   "execution_count": 109,
   "metadata": {},
   "outputs": [
    {
     "data": {
      "text/plain": [
       "array([[1.78000000e+02, 8.86204000e+05, 7.91428571e+00],\n",
       "       [1.69000000e+02, 4.71220000e+05, 6.98571429e+00],\n",
       "       [1.48000000e+02, 2.75868000e+05, 7.50000000e+00],\n",
       "       ...,\n",
       "       [7.70000000e+01, 7.26390000e+04, 7.00000000e+00],\n",
       "       [8.10000000e+01, 5.20550000e+04, 5.69230769e+00],\n",
       "       [9.00000000e+01, 4.28500000e+03, 6.10000000e+00]])"
      ]
     },
     "execution_count": 109,
     "metadata": {},
     "output_type": "execute_result"
    }
   ],
   "source": [
    "# Using f_selection to determine the 3 most important factors\n",
    "X_new = SelectKBest(f_regression, k=3).fit_transform(X, y)\n",
    "X_new"
   ]
  },
  {
   "cell_type": "code",
   "execution_count": 110,
   "metadata": {},
   "outputs": [
    {
     "data": {
      "text/html": [
       "<div>\n",
       "<style scoped>\n",
       "    .dataframe tbody tr th:only-of-type {\n",
       "        vertical-align: middle;\n",
       "    }\n",
       "\n",
       "    .dataframe tbody tr th {\n",
       "        vertical-align: top;\n",
       "    }\n",
       "\n",
       "    .dataframe thead th {\n",
       "        text-align: right;\n",
       "    }\n",
       "</style>\n",
       "<table border=\"1\" class=\"dataframe\">\n",
       "  <thead>\n",
       "    <tr style=\"text-align: right;\">\n",
       "      <th></th>\n",
       "      <th>num_critic_for_reviews</th>\n",
       "      <th>duration</th>\n",
       "      <th>director_facebook_likes</th>\n",
       "      <th>gross</th>\n",
       "      <th>num_voted_users</th>\n",
       "      <th>cast_total_facebook_likes</th>\n",
       "      <th>facenumber_in_poster</th>\n",
       "      <th>num_user_for_reviews</th>\n",
       "      <th>content_rating</th>\n",
       "      <th>budget</th>\n",
       "      <th>title_year</th>\n",
       "      <th>imdb_score</th>\n",
       "      <th>movie_facebook_likes</th>\n",
       "      <th>top_3_actors_likes</th>\n",
       "      <th>profit</th>\n",
       "      <th>roi_ratio</th>\n",
       "      <th>dir_avg_score</th>\n",
       "      <th>category</th>\n",
       "    </tr>\n",
       "  </thead>\n",
       "  <tbody>\n",
       "    <tr>\n",
       "      <th>0</th>\n",
       "      <td>723.0</td>\n",
       "      <td>178.0</td>\n",
       "      <td>0.0</td>\n",
       "      <td>760505847.0</td>\n",
       "      <td>886204</td>\n",
       "      <td>4834</td>\n",
       "      <td>0.0</td>\n",
       "      <td>3054.0</td>\n",
       "      <td>2</td>\n",
       "      <td>237000000.0</td>\n",
       "      <td>2009.0</td>\n",
       "      <td>7.9</td>\n",
       "      <td>33000</td>\n",
       "      <td>2791.0</td>\n",
       "      <td>523505847.0</td>\n",
       "      <td>2.208885</td>\n",
       "      <td>7.914286</td>\n",
       "      <td>3</td>\n",
       "    </tr>\n",
       "  </tbody>\n",
       "</table>\n",
       "</div>"
      ],
      "text/plain": [
       "   num_critic_for_reviews  duration  director_facebook_likes        gross  \\\n",
       "0                   723.0     178.0                      0.0  760505847.0   \n",
       "\n",
       "   num_voted_users  cast_total_facebook_likes  facenumber_in_poster  \\\n",
       "0           886204                       4834                   0.0   \n",
       "\n",
       "   num_user_for_reviews  content_rating       budget  title_year  imdb_score  \\\n",
       "0                3054.0               2  237000000.0      2009.0         7.9   \n",
       "\n",
       "   movie_facebook_likes  top_3_actors_likes       profit  roi_ratio  \\\n",
       "0                 33000              2791.0  523505847.0   2.208885   \n",
       "\n",
       "   dir_avg_score  category  \n",
       "0       7.914286         3  "
      ]
     },
     "execution_count": 110,
     "metadata": {},
     "output_type": "execute_result"
    }
   ],
   "source": [
    "final1.head(1)"
   ]
  },
  {
   "cell_type": "code",
   "execution_count": 111,
   "metadata": {},
   "outputs": [
    {
     "name": "stdout",
     "output_type": "stream",
     "text": [
      "r-squared:  0.7318660832942132\n"
     ]
    }
   ],
   "source": [
    "# F Selection chooses duration, num_voted_users, and dir_avg_score columns\n",
    "# Show the calculated R^2 value of the model\n",
    "f_reg = lm.LinearRegression()\n",
    "f_reg.fit(X_new, y)\n",
    "f_reg_y = f_reg.predict(X_new)\n",
    "\n",
    "print \"r-squared: \", explained_variance_score(y, f_reg_y)"
   ]
  },
  {
   "cell_type": "code",
   "execution_count": 112,
   "metadata": {
    "scrolled": false
   },
   "outputs": [
    {
     "name": "stdout",
     "output_type": "stream",
     "text": [
      "                            OLS Regression Results                            \n",
      "==============================================================================\n",
      "Dep. Variable:             imdb_score   R-squared:                       0.732\n",
      "Model:                            OLS   Adj. R-squared:                  0.732\n",
      "Method:                 Least Squares   F-statistic:                     3414.\n",
      "Date:                Mon, 03 Dec 2018   Prob (F-statistic):               0.00\n",
      "Time:                        12:08:33   Log-Likelihood:                -3062.6\n",
      "No. Observations:                3756   AIC:                             6133.\n",
      "Df Residuals:                    3752   BIC:                             6158.\n",
      "Df Model:                           3                                         \n",
      "Covariance Type:            nonrobust                                         \n",
      "===================================================================================\n",
      "                      coef    std err          t      P>|t|      [0.025      0.975]\n",
      "-----------------------------------------------------------------------------------\n",
      "Intercept           0.3371      0.074      4.558      0.000       0.192       0.482\n",
      "duration            0.0014      0.000      3.237      0.001       0.001       0.002\n",
      "num_voted_users  1.286e-06   6.53e-08     19.693      0.000    1.16e-06    1.41e-06\n",
      "dir_avg_score       0.9028      0.011     79.601      0.000       0.881       0.925\n",
      "==============================================================================\n",
      "Omnibus:                      564.831   Durbin-Watson:                   1.845\n",
      "Prob(Omnibus):                  0.000   Jarque-Bera (JB):             2045.928\n",
      "Skew:                          -0.726   Prob(JB):                         0.00\n",
      "Kurtosis:                       6.311   Cond. No.                     1.55e+06\n",
      "==============================================================================\n",
      "\n",
      "Warnings:\n",
      "[1] Standard Errors assume that the covariance matrix of the errors is correctly specified.\n",
      "[2] The condition number is large, 1.55e+06. This might indicate that there are\n",
      "strong multicollinearity or other numerical problems.\n"
     ]
    }
   ],
   "source": [
    "f_reg = ols(\"imdb_score~duration+num_voted_users+dir_avg_score\", final1)\n",
    "f_reg = f_reg.fit()\n",
    "print f_reg.summary()"
   ]
  },
  {
   "cell_type": "markdown",
   "metadata": {},
   "source": [
    "### This is the model I like most, as it only uses three basic variables: How good the director's previous movies have been, how long it is, and the popularity of non-critic viewers. It has a fairly high variance score of 0.732."
   ]
  },
  {
   "cell_type": "markdown",
   "metadata": {},
   "source": [
    "### Recursive Feature Selection"
   ]
  },
  {
   "cell_type": "code",
   "execution_count": 113,
   "metadata": {},
   "outputs": [
    {
     "name": "stdout",
     "output_type": "stream",
     "text": [
      "Features sorted by their rank:\n",
      "[(1, 'content_rating'), (1, 'dir_avg_score'), (2, 'title_year'), (3, 'facenumber_in_poster'), (4, 'duration'), (5, 'num_critic_for_reviews'), (6, 'num_user_for_reviews'), (7, 'roi_ratio'), (8, 'top_3_actors_likes'), (9, 'cast_total_facebook_likes'), (10, 'director_facebook_likes'), (11, 'num_voted_users'), (12, 'movie_facebook_likes'), (13, 'budget'), (14, 'profit'), (15, 'gross')]\n"
     ]
    }
   ],
   "source": [
    "lr = lm.LinearRegression()\n",
    "rfe = RFE(lr, n_features_to_select=2)\n",
    "rfe_y = rfe.fit(X,y)\n",
    "\n",
    "print \"Features sorted by their rank:\"\n",
    "print sorted(zip(map(lambda x: x, rfe.ranking_), X.columns))"
   ]
  },
  {
   "cell_type": "markdown",
   "metadata": {},
   "source": [
    "### Oddly, Recursive Feature Selection lists content_rating as the most important, which is not listed in any of the other methods."
   ]
  },
  {
   "cell_type": "markdown",
   "metadata": {},
   "source": [
    "### Normalization"
   ]
  },
  {
   "cell_type": "code",
   "execution_count": null,
   "metadata": {},
   "outputs": [],
   "source": [
    "from sklearn.preprocessing import Normalizer\n",
    "\n",
    "y = final1['imdb_score'] \n",
    "X = final1.drop(['imdb_score','category'], axis =1)\n",
    "\n",
    "scaler = Normalizer().fit(X)\n",
    "normalizedX = scaler.transform(X)\n",
    "normalizedX"
   ]
  },
  {
   "cell_type": "code",
   "execution_count": 45,
   "metadata": {},
   "outputs": [
    {
     "name": "stdout",
     "output_type": "stream",
     "text": [
      "Coefficients:  [ 1.50010414e+03 -1.77326100e+03 -3.37961361e+01 -2.24585291e-01\n",
      "  3.60064310e+01 -2.64069344e+02 -4.51443983e+04 -6.17735643e+03\n",
      "  2.34943562e+04 -5.39980840e-01 -1.55179869e+03  1.19628512e+01\n",
      "  2.62906734e+02  3.15396526e-01  3.89149957e+01  5.42649728e+05]\n",
      "y-intercept  6.842982000997704\n"
     ]
    }
   ],
   "source": [
    "model = lm.LinearRegression()\n",
    "model.fit(normalizedX, y)\n",
    "model_y = model.predict(normalizedX)\n",
    "print 'Coefficients: ', model.coef_\n",
    "print \"y-intercept \", model.intercept_"
   ]
  },
  {
   "cell_type": "code",
   "execution_count": 46,
   "metadata": {},
   "outputs": [
    {
     "name": "stdout",
     "output_type": "stream",
     "text": [
      "mean square error:  0.9740931873571652\n",
      "0.1266559331996443\n"
     ]
    }
   ],
   "source": [
    "print \"mean square error: \", mean_squared_error(y, model_y)\n",
    "print explained_variance_score(y, model_y)"
   ]
  },
  {
   "cell_type": "code",
   "execution_count": 47,
   "metadata": {},
   "outputs": [
    {
     "data": {
      "image/png": "[encoded data removed]",
      "text/plain": [
       "<Figure size 432x288 with 1 Axes>"
      ]
     },
     "metadata": {},
     "output_type": "display_data"
    }
   ],
   "source": [
    "plt.subplots()\n",
    "plt.scatter(y, model_y)\n",
    "plt.plot([y.min(), y.max()], [y.min(), y.max()], 'k--', lw=4)   #dotted line represents perfect prediction (actual = predicted)\n",
    "plt.xlabel('Actual')\n",
    "plt.ylabel('Predicted')\n",
    "plt.show()"
   ]
  },
  {
   "cell_type": "markdown",
   "metadata": {},
   "source": [
    "### After normalizing the data, it is clear that this model does not accurately predict the outcome of a movie's success. The R^2 value is 0.127."
   ]
  },
  {
   "cell_type": "markdown",
   "metadata": {},
   "source": [
    "### Random Forest Regressor"
   ]
  },
  {
   "cell_type": "code",
   "execution_count": 68,
   "metadata": {},
   "outputs": [
    {
     "name": "stdout",
     "output_type": "stream",
     "text": [
      "mean square error:  0.047137060702875405\n",
      "variance or r-squared:  0.9577478131950738\n"
     ]
    }
   ],
   "source": [
    "from sklearn.ensemble import RandomForestRegressor\n",
    "from sklearn.datasets import make_regression\n",
    "\n",
    "#assigning columns to X and Y variables\n",
    "y = final1['imdb_score'] \n",
    "X = final1.drop(['imdb_score','category'], axis =1)\n",
    "\n",
    "regr = RandomForestRegressor(random_state=0)\n",
    "regr.fit(X, y)\n",
    "regr_predicted = regr.predict(X)\n",
    "\n",
    "print \"mean square error: \", mean_squared_error(y, regr_predicted)\n",
    "print \"variance or r-squared: \", explained_variance_score(y, regr_predicted)"
   ]
  },
  {
   "cell_type": "code",
   "execution_count": 64,
   "metadata": {},
   "outputs": [
    {
     "data": {
      "text/plain": [
       "[(0.004849685065423418, 'content_rating'),\n",
       " (0.006347057929707106, 'facenumber_in_poster'),\n",
       " (0.009495244341944853, 'top_3_actors_likes'),\n",
       " (0.010724335754772347, 'cast_total_facebook_likes'),\n",
       " (0.011180965699747037, 'movie_facebook_likes'),\n",
       " (0.013219904901821511, 'num_critic_for_reviews'),\n",
       " (0.014213916349590702, 'gross'),\n",
       " (0.015063744044819517, 'roi_ratio'),\n",
       " (0.0154242565081883, 'director_facebook_likes'),\n",
       " (0.018608388611656933, 'num_user_for_reviews'),\n",
       " (0.019505208823417445, 'title_year'),\n",
       " (0.02551031151722598, 'duration'),\n",
       " (0.02673979703999938, 'profit'),\n",
       " (0.027088436930675523, 'budget'),\n",
       " (0.07456647001004978, 'num_voted_users'),\n",
       " (0.7074622764709602, 'dir_avg_score')]"
      ]
     },
     "execution_count": 64,
     "metadata": {},
     "output_type": "execute_result"
    }
   ],
   "source": [
    "sorted(zip(regr.feature_importances_, X.columns))"
   ]
  },
  {
   "cell_type": "markdown",
   "metadata": {},
   "source": [
    "### This method has an abnormally high variance score of 0.958 compared to the other tests. It lists the most important factor as being dir_avg_score by a large margin, with num_voted_users, budget, profit, and duration coming next."
   ]
  },
  {
   "cell_type": "markdown",
   "metadata": {},
   "source": [
    "### Decision Tree"
   ]
  },
  {
   "cell_type": "code",
   "execution_count": 116,
   "metadata": {},
   "outputs": [],
   "source": [
    "# declare X variables and y variable\n",
    "y = final1['category'] \n",
    "X = final1.drop(['imdb_score','category'], axis =1)"
   ]
  },
  {
   "cell_type": "code",
   "execution_count": 117,
   "metadata": {},
   "outputs": [
    {
     "data": {
      "text/plain": [
       "DecisionTreeClassifier(class_weight=None, criterion='gini', max_depth=None,\n",
       "            max_features=None, max_leaf_nodes=None,\n",
       "            min_impurity_decrease=0.0, min_impurity_split=None,\n",
       "            min_samples_leaf=1, min_samples_split=2,\n",
       "            min_weight_fraction_leaf=0.0, presort=False, random_state=None,\n",
       "            splitter='best')"
      ]
     },
     "execution_count": 117,
     "metadata": {},
     "output_type": "execute_result"
    }
   ],
   "source": [
    "# split validation\n",
    "X_train, X_test, y_train, y_test = train_test_split(X, y, test_size=0.3, random_state=0)\n",
    "\n",
    "# Initialize DecisionTreeClassifier()\n",
    "dt = DecisionTreeClassifier()\n",
    "\n",
    "# Train a decision tree model\n",
    "dt.fit(X_train, y_train)"
   ]
  },
  {
   "cell_type": "code",
   "execution_count": 118,
   "metadata": {},
   "outputs": [
    {
     "name": "stdout",
     "output_type": "stream",
     "text": [
      "2629 2629\n",
      "1127 1127\n"
     ]
    }
   ],
   "source": [
    "print len(X_train), len(y_train)\n",
    "print len(X_test), len(y_test)"
   ]
  },
  {
   "cell_type": "code",
   "execution_count": 165,
   "metadata": {
    "scrolled": true
   },
   "outputs": [
    {
     "name": "stdout",
     "output_type": "stream",
     "text": [
      "0.7684117125110914\n",
      "--------------------------------------------------------\n",
      "[[ 26   6  11   2]\n",
      " [  8 195  87   0]\n",
      " [ 17  92 612  19]\n",
      " [  8   0  11  33]]\n",
      "--------------------------------------------------------\n",
      "             precision    recall  f1-score   support\n",
      "\n",
      "          1       0.44      0.58      0.50        45\n",
      "          2       0.67      0.67      0.67       290\n",
      "          3       0.85      0.83      0.84       740\n",
      "          4       0.61      0.63      0.62        52\n",
      "\n",
      "avg / total       0.77      0.77      0.77      1127\n",
      "\n",
      "--------------------------------------------------------\n"
     ]
    }
   ],
   "source": [
    "print metrics.accuracy_score(y_test, dt.predict(X_test))\n",
    "print \"--------------------------------------------------------\"\n",
    "print metrics.confusion_matrix(y_test, dt.predict(X_test)) \n",
    "print \"--------------------------------------------------------\"\n",
    "print metrics.classification_report(y_test, dt.predict(X_test))\n",
    "print \"--------------------------------------------------------\""
   ]
  },
  {
   "cell_type": "code",
   "execution_count": 120,
   "metadata": {},
   "outputs": [
    {
     "data": {
      "image/png": "[encoded data removed]",
      "text/plain": [
       "<Figure size 432x288 with 2 Axes>"
      ]
     },
     "metadata": {},
     "output_type": "display_data"
    }
   ],
   "source": [
    "import scikitplot as skplt\n",
    "\n",
    "skplt.metrics.plot_confusion_matrix(y_true=np.array(y_test), y_pred=dt.predict(X_test))\n",
    "plt.show()"
   ]
  },
  {
   "cell_type": "markdown",
   "metadata": {},
   "source": [
    "### The decision tree model has a high variance score of 0.774 when categorizing movies. The most accurate category appears to be those that are \"good\"."
   ]
  },
  {
   "cell_type": "markdown",
   "metadata": {},
   "source": [
    "### Simple Decision Tree"
   ]
  },
  {
   "cell_type": "code",
   "execution_count": 121,
   "metadata": {},
   "outputs": [
    {
     "data": {
      "text/plain": [
       "DecisionTreeClassifier(class_weight=None, criterion='gini', max_depth=3,\n",
       "            max_features=None, max_leaf_nodes=None,\n",
       "            min_impurity_decrease=0.0, min_impurity_split=None,\n",
       "            min_samples_leaf=5, min_samples_split=2,\n",
       "            min_weight_fraction_leaf=0.0, presort=False, random_state=None,\n",
       "            splitter='best')"
      ]
     },
     "execution_count": 121,
     "metadata": {},
     "output_type": "execute_result"
    }
   ],
   "source": [
    "# split validation\n",
    "X_train, X_test, y_train, y_test = train_test_split(X, y, test_size=0.3, random_state=0)\n",
    "\n",
    "# # Build a decision model with max_depth=3 and min_samples_leaf=5\n",
    "dt_simple = DecisionTreeClassifier(max_depth=3, min_samples_leaf=5)\n",
    "dt_simple.fit(X_train, y_train)"
   ]
  },
  {
   "cell_type": "code",
   "execution_count": 164,
   "metadata": {
    "scrolled": true
   },
   "outputs": [
    {
     "name": "stdout",
     "output_type": "stream",
     "text": [
      "0.8305235137533274\n",
      "--------------------------------------------------------\n",
      "[[ 20   8  14   3]\n",
      " [  2 185 103   0]\n",
      " [  0  35 695  10]\n",
      " [  0   0  16  36]]\n",
      "--------------------------------------------------------\n",
      "             precision    recall  f1-score   support\n",
      "\n",
      "          1       0.91      0.44      0.60        45\n",
      "          2       0.81      0.64      0.71       290\n",
      "          3       0.84      0.94      0.89       740\n",
      "          4       0.73      0.69      0.71        52\n",
      "\n",
      "avg / total       0.83      0.83      0.82      1127\n",
      "\n",
      "--------------------------------------------------------\n"
     ]
    }
   ],
   "source": [
    "print metrics.accuracy_score(y_test, dt_simple.predict(X_test))\n",
    "print \"--------------------------------------------------------\"\n",
    "print metrics.confusion_matrix(y_test, dt_simple.predict(X_test)) \n",
    "print \"--------------------------------------------------------\"\n",
    "print metrics.classification_report(y_test, dt_simple.predict(X_test))\n",
    "print \"--------------------------------------------------------\""
   ]
  },
  {
   "cell_type": "code",
   "execution_count": 124,
   "metadata": {},
   "outputs": [
    {
     "data": {
      "image/png": "[encoded data removed]",
      "text/plain": [
       "<Figure size 432x288 with 2 Axes>"
      ]
     },
     "metadata": {},
     "output_type": "display_data"
    }
   ],
   "source": [
    "skplt.metrics.plot_confusion_matrix(y_true=np.array(y_test), y_pred=dt_simple.predict(X_test))\n",
    "plt.show()"
   ]
  },
  {
   "cell_type": "markdown",
   "metadata": {},
   "source": [
    "### This model has a higher variance score of 0.831, but is not as detailed."
   ]
  },
  {
   "cell_type": "markdown",
   "metadata": {},
   "source": [
    "### KNN"
   ]
  },
  {
   "cell_type": "code",
   "execution_count": 151,
   "metadata": {},
   "outputs": [],
   "source": [
    "# declare X variables and y variable\n",
    "y = final1['category'] \n",
    "X = final1.drop(['imdb_score','category'], axis =1)"
   ]
  },
  {
   "cell_type": "code",
   "execution_count": 152,
   "metadata": {},
   "outputs": [
    {
     "data": {
      "text/plain": [
       "KNeighborsClassifier(algorithm='auto', leaf_size=30, metric='minkowski',\n",
       "           metric_params=None, n_jobs=1, n_neighbors=5, p=2,\n",
       "           weights='uniform')"
      ]
     },
     "execution_count": 152,
     "metadata": {},
     "output_type": "execute_result"
    }
   ],
   "source": [
    "# evaluate the model by splitting into train and test sets & develop knn model (name it as knn)\n",
    "X_train, X_test, y_train, y_test = train_test_split(X, y, test_size=0.3, random_state=0)\n",
    "\n",
    "# initialize KNeighborsClassifier() and train a KNN Model\n",
    "knn = KNeighborsClassifier()\n",
    "knn.fit(X_train, y_train)\n"
   ]
  },
  {
   "cell_type": "code",
   "execution_count": 163,
   "metadata": {
    "scrolled": true
   },
   "outputs": [
    {
     "name": "stdout",
     "output_type": "stream",
     "text": [
      "0.6202307009760426\n",
      "--------------------------------------------------------\n",
      "[[  0  10  35   0]\n",
      " [  0  48 242   0]\n",
      " [  0  91 649   0]\n",
      " [  0   1  49   2]]\n",
      "--------------------------------------------------------\n",
      "             precision    recall  f1-score   support\n",
      "\n",
      "          1       0.00      0.00      0.00        45\n",
      "          2       0.32      0.17      0.22       290\n",
      "          3       0.67      0.88      0.76       740\n",
      "          4       1.00      0.04      0.07        52\n",
      "\n",
      "avg / total       0.57      0.62      0.56      1127\n",
      "\n",
      "--------------------------------------------------------\n"
     ]
    },
    {
     "name": "stderr",
     "output_type": "stream",
     "text": [
      "C:\\Users\\zacha\\Anaconda2\\lib\\site-packages\\sklearn\\metrics\\classification.py:1135: UndefinedMetricWarning: Precision and F-score are ill-defined and being set to 0.0 in labels with no predicted samples.\n",
      "  'precision', 'predicted', average, warn_for)\n"
     ]
    }
   ],
   "source": [
    "print metrics.accuracy_score(y_test, knn.predict(X_test))\n",
    "print \"--------------------------------------------------------\"\n",
    "print metrics.confusion_matrix(y_test, knn.predict(X_test)) \n",
    "print \"--------------------------------------------------------\"\n",
    "print metrics.classification_report(y_test, knn.predict(X_test))\n",
    "print \"--------------------------------------------------------\""
   ]
  },
  {
   "cell_type": "code",
   "execution_count": 154,
   "metadata": {},
   "outputs": [
    {
     "name": "stdout",
     "output_type": "stream",
     "text": [
      "[0.55851064 0.49468085 0.53191489 0.52393617 0.5212766  0.40159574\n",
      " 0.3962766  0.42287234 0.456      0.67828418]\n",
      "0.49853480120928645\n"
     ]
    }
   ],
   "source": [
    "# evaluate the knn model using 10-fold cross-validation\n",
    "scores = cross_val_score(knn, X, y, scoring='accuracy', cv=10)\n",
    "print scores\n",
    "print scores.mean()"
   ]
  },
  {
   "cell_type": "code",
   "execution_count": 156,
   "metadata": {},
   "outputs": [
    {
     "data": {
      "image/png": "[encoded data removed]",
      "text/plain": [
       "<Figure size 432x288 with 1 Axes>"
      ]
     },
     "metadata": {},
     "output_type": "display_data"
    }
   ],
   "source": [
    "# automatic grid search for an optimal value of K\n",
    "from sklearn.grid_search import GridSearchCV\n",
    "\n",
    "knn = KNeighborsClassifier()\n",
    "k_range = range(1, 10)\n",
    "param_grid = dict(n_neighbors=k_range)\n",
    "grid = GridSearchCV(knn, param_grid, cv=10, scoring='accuracy')\n",
    "grid.fit(X, y)\n",
    "\n",
    "# check the results of the grid search\n",
    "grid.grid_scores_\n",
    "grid_mean_scores = [result[1] for result in grid.grid_scores_]\n",
    "plt.figure()\n",
    "plt.plot(k_range, grid_mean_scores)\n",
    "plt.show()"
   ]
  },
  {
   "cell_type": "code",
   "execution_count": 157,
   "metadata": {},
   "outputs": [
    {
     "name": "stdout",
     "output_type": "stream",
     "text": [
      "0.536474973376\n",
      "{'n_neighbors': 9}\n",
      "KNeighborsClassifier(algorithm='auto', leaf_size=30, metric='minkowski',\n",
      "           metric_params=None, n_jobs=1, n_neighbors=9, p=2,\n",
      "           weights='uniform')\n"
     ]
    }
   ],
   "source": [
    "print grid.best_score_\n",
    "print grid.best_params_\n",
    "print grid.best_estimator_"
   ]
  },
  {
   "cell_type": "code",
   "execution_count": 158,
   "metadata": {},
   "outputs": [
    {
     "data": {
      "text/plain": [
       "KNeighborsClassifier(algorithm='auto', leaf_size=30, metric='minkowski',\n",
       "           metric_params=None, n_jobs=1, n_neighbors=9, p=2,\n",
       "           weights='uniform')"
      ]
     },
     "execution_count": 158,
     "metadata": {},
     "output_type": "execute_result"
    }
   ],
   "source": [
    "# develop a new knn model with k = 9\n",
    "X_train, X_test, y_train, y_test = train_test_split(X, y, test_size=0.3, random_state=0)\n",
    "knn = KNeighborsClassifier(n_neighbors=9)\n",
    "knn.fit(X_train, y_train)"
   ]
  },
  {
   "cell_type": "code",
   "execution_count": 162,
   "metadata": {
    "scrolled": true
   },
   "outputs": [
    {
     "name": "stdout",
     "output_type": "stream",
     "text": [
      "0.6202307009760426\n",
      "[[  0  10  35   0]\n",
      " [  0  48 242   0]\n",
      " [  0  91 649   0]\n",
      " [  0   1  49   2]]\n",
      "             precision    recall  f1-score   support\n",
      "\n",
      "          1       0.00      0.00      0.00        45\n",
      "          2       0.32      0.17      0.22       290\n",
      "          3       0.67      0.88      0.76       740\n",
      "          4       1.00      0.04      0.07        52\n",
      "\n",
      "avg / total       0.57      0.62      0.56      1127\n",
      "\n"
     ]
    },
    {
     "name": "stderr",
     "output_type": "stream",
     "text": [
      "C:\\Users\\zacha\\Anaconda2\\lib\\site-packages\\sklearn\\metrics\\classification.py:1135: UndefinedMetricWarning: Precision and F-score are ill-defined and being set to 0.0 in labels with no predicted samples.\n",
      "  'precision', 'predicted', average, warn_for)\n"
     ]
    }
   ],
   "source": [
    "#Model evaluation without valdation\n",
    "print metrics.accuracy_score(y_test, knn.predict(X_test))\n",
    "print metrics.confusion_matrix(y_test, knn.predict(X_test))\n",
    "print metrics.classification_report(y_test, knn.predict(X_test))"
   ]
  },
  {
   "cell_type": "markdown",
   "metadata": {},
   "source": [
    "### KNN uses 9 variables, but only has a variance of 0.62 when categorizing movies."
   ]
  },
  {
   "cell_type": "markdown",
   "metadata": {},
   "source": [
    "### Random Forest"
   ]
  },
  {
   "cell_type": "code",
   "execution_count": 160,
   "metadata": {},
   "outputs": [
    {
     "data": {
      "text/plain": [
       "0.8473824312333629"
      ]
     },
     "execution_count": 160,
     "metadata": {},
     "output_type": "execute_result"
    }
   ],
   "source": [
    "from sklearn.ensemble import RandomForestClassifier\n",
    "\n",
    "clf = RandomForestClassifier(n_estimators=1000)    #building 1000 decision trees\n",
    "clf=clf.fit(X_train, y_train)\n",
    "clf.score(X_test, y_test)"
   ]
  },
  {
   "cell_type": "code",
   "execution_count": 161,
   "metadata": {},
   "outputs": [
    {
     "name": "stdout",
     "output_type": "stream",
     "text": [
      "0.8473824312333629\n",
      "[[ 21   7  15   2]\n",
      " [  2 201  87   0]\n",
      " [  0  35 700   5]\n",
      " [  1   0  18  33]]\n",
      "             precision    recall  f1-score   support\n",
      "\n",
      "          1       0.88      0.47      0.61        45\n",
      "          2       0.83      0.69      0.75       290\n",
      "          3       0.85      0.95      0.90       740\n",
      "          4       0.82      0.63      0.72        52\n",
      "\n",
      "avg / total       0.85      0.85      0.84      1127\n",
      "\n"
     ]
    }
   ],
   "source": [
    "# generate evaluation metrics\n",
    "print metrics.accuracy_score(y_test, clf.predict(X_test)) #overall accuracy\n",
    "print metrics.confusion_matrix(y_test, clf.predict(X_test))\n",
    "print metrics.classification_report(y_test, clf.predict(X_test))"
   ]
  },
  {
   "cell_type": "code",
   "execution_count": 166,
   "metadata": {},
   "outputs": [
    {
     "data": {
      "text/html": [
       "<div>\n",
       "<style scoped>\n",
       "    .dataframe tbody tr th:only-of-type {\n",
       "        vertical-align: middle;\n",
       "    }\n",
       "\n",
       "    .dataframe tbody tr th {\n",
       "        vertical-align: top;\n",
       "    }\n",
       "\n",
       "    .dataframe thead th {\n",
       "        text-align: right;\n",
       "    }\n",
       "</style>\n",
       "<table border=\"1\" class=\"dataframe\">\n",
       "  <thead>\n",
       "    <tr style=\"text-align: right;\">\n",
       "      <th></th>\n",
       "      <th>feature</th>\n",
       "      <th>importance</th>\n",
       "    </tr>\n",
       "  </thead>\n",
       "  <tbody>\n",
       "    <tr>\n",
       "      <th>15</th>\n",
       "      <td>dir_avg_score</td>\n",
       "      <td>0.368762</td>\n",
       "    </tr>\n",
       "    <tr>\n",
       "      <th>4</th>\n",
       "      <td>num_voted_users</td>\n",
       "      <td>0.106301</td>\n",
       "    </tr>\n",
       "    <tr>\n",
       "      <th>1</th>\n",
       "      <td>duration</td>\n",
       "      <td>0.063592</td>\n",
       "    </tr>\n",
       "    <tr>\n",
       "      <th>7</th>\n",
       "      <td>num_user_for_reviews</td>\n",
       "      <td>0.047853</td>\n",
       "    </tr>\n",
       "    <tr>\n",
       "      <th>3</th>\n",
       "      <td>gross</td>\n",
       "      <td>0.045995</td>\n",
       "    </tr>\n",
       "    <tr>\n",
       "      <th>13</th>\n",
       "      <td>profit</td>\n",
       "      <td>0.042644</td>\n",
       "    </tr>\n",
       "    <tr>\n",
       "      <th>0</th>\n",
       "      <td>num_critic_for_reviews</td>\n",
       "      <td>0.041518</td>\n",
       "    </tr>\n",
       "    <tr>\n",
       "      <th>9</th>\n",
       "      <td>budget</td>\n",
       "      <td>0.039877</td>\n",
       "    </tr>\n",
       "    <tr>\n",
       "      <th>10</th>\n",
       "      <td>title_year</td>\n",
       "      <td>0.038045</td>\n",
       "    </tr>\n",
       "    <tr>\n",
       "      <th>14</th>\n",
       "      <td>roi_ratio</td>\n",
       "      <td>0.036597</td>\n",
       "    </tr>\n",
       "    <tr>\n",
       "      <th>2</th>\n",
       "      <td>director_facebook_likes</td>\n",
       "      <td>0.035309</td>\n",
       "    </tr>\n",
       "    <tr>\n",
       "      <th>5</th>\n",
       "      <td>cast_total_facebook_likes</td>\n",
       "      <td>0.034857</td>\n",
       "    </tr>\n",
       "    <tr>\n",
       "      <th>12</th>\n",
       "      <td>top_3_actors_likes</td>\n",
       "      <td>0.034108</td>\n",
       "    </tr>\n",
       "    <tr>\n",
       "      <th>11</th>\n",
       "      <td>movie_facebook_likes</td>\n",
       "      <td>0.032646</td>\n",
       "    </tr>\n",
       "    <tr>\n",
       "      <th>6</th>\n",
       "      <td>facenumber_in_poster</td>\n",
       "      <td>0.017164</td>\n",
       "    </tr>\n",
       "    <tr>\n",
       "      <th>8</th>\n",
       "      <td>content_rating</td>\n",
       "      <td>0.014732</td>\n",
       "    </tr>\n",
       "  </tbody>\n",
       "</table>\n",
       "</div>"
      ],
      "text/plain": [
       "                      feature  importance\n",
       "15              dir_avg_score    0.368762\n",
       "4             num_voted_users    0.106301\n",
       "1                    duration    0.063592\n",
       "7        num_user_for_reviews    0.047853\n",
       "3                       gross    0.045995\n",
       "13                     profit    0.042644\n",
       "0      num_critic_for_reviews    0.041518\n",
       "9                      budget    0.039877\n",
       "10                 title_year    0.038045\n",
       "14                  roi_ratio    0.036597\n",
       "2     director_facebook_likes    0.035309\n",
       "5   cast_total_facebook_likes    0.034857\n",
       "12         top_3_actors_likes    0.034108\n",
       "11       movie_facebook_likes    0.032646\n",
       "6        facenumber_in_poster    0.017164\n",
       "8              content_rating    0.014732"
      ]
     },
     "execution_count": 166,
     "metadata": {},
     "output_type": "execute_result"
    }
   ],
   "source": [
    "pd.DataFrame({'feature':X.columns, 'importance':clf.feature_importances_}).\\\n",
    "                                                    sort_values('importance',ascending=False)"
   ]
  },
  {
   "cell_type": "code",
   "execution_count": 169,
   "metadata": {},
   "outputs": [
    {
     "data": {
      "text/html": [
       "<div>\n",
       "<style scoped>\n",
       "    .dataframe tbody tr th:only-of-type {\n",
       "        vertical-align: middle;\n",
       "    }\n",
       "\n",
       "    .dataframe tbody tr th {\n",
       "        vertical-align: top;\n",
       "    }\n",
       "\n",
       "    .dataframe thead th {\n",
       "        text-align: right;\n",
       "    }\n",
       "</style>\n",
       "<table border=\"1\" class=\"dataframe\">\n",
       "  <thead>\n",
       "    <tr style=\"text-align: right;\">\n",
       "      <th></th>\n",
       "      <th>prob of BAD</th>\n",
       "      <th>prob of OKAY</th>\n",
       "      <th>prob of GOOD</th>\n",
       "      <th>prob of EXCELLENT</th>\n",
       "    </tr>\n",
       "  </thead>\n",
       "  <tbody>\n",
       "    <tr>\n",
       "      <th>0</th>\n",
       "      <td>0.003</td>\n",
       "      <td>0.102</td>\n",
       "      <td>0.894</td>\n",
       "      <td>0.001</td>\n",
       "    </tr>\n",
       "    <tr>\n",
       "      <th>1</th>\n",
       "      <td>0.025</td>\n",
       "      <td>0.957</td>\n",
       "      <td>0.018</td>\n",
       "      <td>0.000</td>\n",
       "    </tr>\n",
       "    <tr>\n",
       "      <th>2</th>\n",
       "      <td>0.003</td>\n",
       "      <td>0.356</td>\n",
       "      <td>0.641</td>\n",
       "      <td>0.000</td>\n",
       "    </tr>\n",
       "    <tr>\n",
       "      <th>3</th>\n",
       "      <td>0.000</td>\n",
       "      <td>0.059</td>\n",
       "      <td>0.941</td>\n",
       "      <td>0.000</td>\n",
       "    </tr>\n",
       "    <tr>\n",
       "      <th>4</th>\n",
       "      <td>0.014</td>\n",
       "      <td>0.008</td>\n",
       "      <td>0.865</td>\n",
       "      <td>0.113</td>\n",
       "    </tr>\n",
       "  </tbody>\n",
       "</table>\n",
       "</div>"
      ],
      "text/plain": [
       "   prob of BAD  prob of OKAY  prob of GOOD  prob of EXCELLENT\n",
       "0        0.003         0.102         0.894              0.001\n",
       "1        0.025         0.957         0.018              0.000\n",
       "2        0.003         0.356         0.641              0.000\n",
       "3        0.000         0.059         0.941              0.000\n",
       "4        0.014         0.008         0.865              0.113"
      ]
     },
     "execution_count": 169,
     "metadata": {},
     "output_type": "execute_result"
    }
   ],
   "source": [
    "probs = clf.predict_proba(X_test)\n",
    "probs = pd.DataFrame(probs, columns=['prob of BAD', 'prob of OKAY', 'prob of GOOD', 'prob of EXCELLENT'])\n",
    "probs.head()"
   ]
  },
  {
   "cell_type": "markdown",
   "metadata": {},
   "source": [
    "### After 1000 itereations, the Random Forest model proves very accurate at 0.847."
   ]
  },
  {
   "cell_type": "markdown",
   "metadata": {},
   "source": [
    "## Clustering"
   ]
  },
  {
   "cell_type": "code",
   "execution_count": 208,
   "metadata": {},
   "outputs": [
    {
     "data": {
      "text/html": [
       "<div>\n",
       "<style scoped>\n",
       "    .dataframe tbody tr th:only-of-type {\n",
       "        vertical-align: middle;\n",
       "    }\n",
       "\n",
       "    .dataframe tbody tr th {\n",
       "        vertical-align: top;\n",
       "    }\n",
       "\n",
       "    .dataframe thead th {\n",
       "        text-align: right;\n",
       "    }\n",
       "</style>\n",
       "<table border=\"1\" class=\"dataframe\">\n",
       "  <thead>\n",
       "    <tr style=\"text-align: right;\">\n",
       "      <th></th>\n",
       "      <th>duration</th>\n",
       "      <th>num_voted_users</th>\n",
       "      <th>dir_avg_score</th>\n",
       "    </tr>\n",
       "  </thead>\n",
       "  <tbody>\n",
       "    <tr>\n",
       "      <th>0</th>\n",
       "      <td>178.0</td>\n",
       "      <td>886204</td>\n",
       "      <td>7.914286</td>\n",
       "    </tr>\n",
       "    <tr>\n",
       "      <th>1</th>\n",
       "      <td>169.0</td>\n",
       "      <td>471220</td>\n",
       "      <td>6.985714</td>\n",
       "    </tr>\n",
       "    <tr>\n",
       "      <th>2</th>\n",
       "      <td>148.0</td>\n",
       "      <td>275868</td>\n",
       "      <td>7.500000</td>\n",
       "    </tr>\n",
       "    <tr>\n",
       "      <th>3</th>\n",
       "      <td>164.0</td>\n",
       "      <td>1144337</td>\n",
       "      <td>8.425000</td>\n",
       "    </tr>\n",
       "    <tr>\n",
       "      <th>5</th>\n",
       "      <td>132.0</td>\n",
       "      <td>212204</td>\n",
       "      <td>7.733333</td>\n",
       "    </tr>\n",
       "  </tbody>\n",
       "</table>\n",
       "</div>"
      ],
      "text/plain": [
       "   duration  num_voted_users  dir_avg_score\n",
       "0     178.0           886204       7.914286\n",
       "1     169.0           471220       6.985714\n",
       "2     148.0           275868       7.500000\n",
       "3     164.0          1144337       8.425000\n",
       "5     132.0           212204       7.733333"
      ]
     },
     "execution_count": 208,
     "metadata": {},
     "output_type": "execute_result"
    }
   ],
   "source": [
    "cluster = final1.drop(['num_critic_for_reviews','director_facebook_likes','gross','cast_total_facebook_likes','facenumber_in_poster','num_user_for_reviews','content_rating','budget','title_year','imdb_score','movie_facebook_likes','top_3_actors_likes','profit','roi_ratio','category'], axis = 1)\n",
    "cluster.head()"
   ]
  },
  {
   "cell_type": "code",
   "execution_count": 209,
   "metadata": {},
   "outputs": [
    {
     "data": {
      "text/html": [
       "<div>\n",
       "<style scoped>\n",
       "    .dataframe tbody tr th:only-of-type {\n",
       "        vertical-align: middle;\n",
       "    }\n",
       "\n",
       "    .dataframe tbody tr th {\n",
       "        vertical-align: top;\n",
       "    }\n",
       "\n",
       "    .dataframe thead th {\n",
       "        text-align: right;\n",
       "    }\n",
       "</style>\n",
       "<table border=\"1\" class=\"dataframe\">\n",
       "  <thead>\n",
       "    <tr style=\"text-align: right;\">\n",
       "      <th></th>\n",
       "      <th>duration</th>\n",
       "      <th>num_voted_users</th>\n",
       "      <th>dir_avg_score</th>\n",
       "    </tr>\n",
       "  </thead>\n",
       "  <tbody>\n",
       "    <tr>\n",
       "      <th>0</th>\n",
       "      <td>0.231201</td>\n",
       "      <td>0.461851</td>\n",
       "      <td>0.219546</td>\n",
       "    </tr>\n",
       "    <tr>\n",
       "      <th>1</th>\n",
       "      <td>0.200485</td>\n",
       "      <td>0.216251</td>\n",
       "      <td>0.078853</td>\n",
       "    </tr>\n",
       "    <tr>\n",
       "      <th>2</th>\n",
       "      <td>0.128812</td>\n",
       "      <td>0.100636</td>\n",
       "      <td>0.156775</td>\n",
       "    </tr>\n",
       "    <tr>\n",
       "      <th>3</th>\n",
       "      <td>0.183420</td>\n",
       "      <td>0.614622</td>\n",
       "      <td>0.296927</td>\n",
       "    </tr>\n",
       "    <tr>\n",
       "      <th>5</th>\n",
       "      <td>0.074205</td>\n",
       "      <td>0.062957</td>\n",
       "      <td>0.192129</td>\n",
       "    </tr>\n",
       "  </tbody>\n",
       "</table>\n",
       "</div>"
      ],
      "text/plain": [
       "   duration  num_voted_users  dir_avg_score\n",
       "0  0.231201         0.461851       0.219546\n",
       "1  0.200485         0.216251       0.078853\n",
       "2  0.128812         0.100636       0.156775\n",
       "3  0.183420         0.614622       0.296927\n",
       "5  0.074205         0.062957       0.192129"
      ]
     },
     "execution_count": 209,
     "metadata": {},
     "output_type": "execute_result"
    }
   ],
   "source": [
    "# Normalize data\n",
    "norm = (cluster - cluster.mean()) / (cluster.max() - cluster.min())\n",
    "norm.head()"
   ]
  },
  {
   "cell_type": "code",
   "execution_count": 210,
   "metadata": {},
   "outputs": [
    {
     "data": {
      "text/plain": [
       "KMeans(algorithm='auto', copy_x=True, init='k-means++', max_iter=300,\n",
       "    n_clusters=4, n_init=10, n_jobs=1, precompute_distances='auto',\n",
       "    random_state=0, tol=0.0001, verbose=0)"
      ]
     },
     "execution_count": 210,
     "metadata": {},
     "output_type": "execute_result"
    }
   ],
   "source": [
    "k_means = KMeans(init='k-means++', n_clusters=4, random_state=0)\n",
    "k_means.fit(norm)"
   ]
  },
  {
   "cell_type": "code",
   "execution_count": 211,
   "metadata": {},
   "outputs": [
    {
     "data": {
      "text/plain": [
       "array([1, 1, 1, ..., 2, 3, 3])"
      ]
     },
     "execution_count": 211,
     "metadata": {},
     "output_type": "execute_result"
    }
   ],
   "source": [
    "k_means.labels_"
   ]
  },
  {
   "cell_type": "code",
   "execution_count": 204,
   "metadata": {},
   "outputs": [
    {
     "data": {
      "text/html": [
       "<div>\n",
       "<style scoped>\n",
       "    .dataframe tbody tr th:only-of-type {\n",
       "        vertical-align: middle;\n",
       "    }\n",
       "\n",
       "    .dataframe tbody tr th {\n",
       "        vertical-align: top;\n",
       "    }\n",
       "\n",
       "    .dataframe thead th {\n",
       "        text-align: right;\n",
       "    }\n",
       "</style>\n",
       "<table border=\"1\" class=\"dataframe\">\n",
       "  <thead>\n",
       "    <tr style=\"text-align: right;\">\n",
       "      <th></th>\n",
       "      <th>cluster</th>\n",
       "    </tr>\n",
       "  </thead>\n",
       "  <tbody>\n",
       "    <tr>\n",
       "      <th>0</th>\n",
       "      <td>1</td>\n",
       "    </tr>\n",
       "    <tr>\n",
       "      <th>1</th>\n",
       "      <td>1</td>\n",
       "    </tr>\n",
       "    <tr>\n",
       "      <th>2</th>\n",
       "      <td>1</td>\n",
       "    </tr>\n",
       "    <tr>\n",
       "      <th>3</th>\n",
       "      <td>1</td>\n",
       "    </tr>\n",
       "    <tr>\n",
       "      <th>4</th>\n",
       "      <td>2</td>\n",
       "    </tr>\n",
       "  </tbody>\n",
       "</table>\n",
       "</div>"
      ],
      "text/plain": [
       "   cluster\n",
       "0        1\n",
       "1        1\n",
       "2        1\n",
       "3        1\n",
       "4        2"
      ]
     },
     "execution_count": 204,
     "metadata": {},
     "output_type": "execute_result"
    }
   ],
   "source": [
    "cluster2 = pd.DataFrame(k_means.labels_, columns = ['cluster'])\n",
    "cluster2.head()"
   ]
  },
  {
   "cell_type": "code",
   "execution_count": 212,
   "metadata": {},
   "outputs": [
    {
     "data": {
      "text/html": [
       "<div>\n",
       "<style scoped>\n",
       "    .dataframe tbody tr th:only-of-type {\n",
       "        vertical-align: middle;\n",
       "    }\n",
       "\n",
       "    .dataframe tbody tr th {\n",
       "        vertical-align: top;\n",
       "    }\n",
       "\n",
       "    .dataframe thead th {\n",
       "        text-align: right;\n",
       "    }\n",
       "</style>\n",
       "<table border=\"1\" class=\"dataframe\">\n",
       "  <thead>\n",
       "    <tr style=\"text-align: right;\">\n",
       "      <th></th>\n",
       "      <th>duration</th>\n",
       "      <th>num_voted_users</th>\n",
       "      <th>dir_avg_score</th>\n",
       "      <th>cluster</th>\n",
       "    </tr>\n",
       "  </thead>\n",
       "  <tbody>\n",
       "    <tr>\n",
       "      <th>0</th>\n",
       "      <td>0.231201</td>\n",
       "      <td>0.461851</td>\n",
       "      <td>0.219546</td>\n",
       "      <td>1.0</td>\n",
       "    </tr>\n",
       "    <tr>\n",
       "      <th>1</th>\n",
       "      <td>0.200485</td>\n",
       "      <td>0.216251</td>\n",
       "      <td>0.078853</td>\n",
       "      <td>1.0</td>\n",
       "    </tr>\n",
       "    <tr>\n",
       "      <th>2</th>\n",
       "      <td>0.128812</td>\n",
       "      <td>0.100636</td>\n",
       "      <td>0.156775</td>\n",
       "      <td>1.0</td>\n",
       "    </tr>\n",
       "    <tr>\n",
       "      <th>3</th>\n",
       "      <td>0.183420</td>\n",
       "      <td>0.614622</td>\n",
       "      <td>0.296927</td>\n",
       "      <td>1.0</td>\n",
       "    </tr>\n",
       "    <tr>\n",
       "      <th>5</th>\n",
       "      <td>0.074205</td>\n",
       "      <td>0.062957</td>\n",
       "      <td>0.192129</td>\n",
       "      <td>1.0</td>\n",
       "    </tr>\n",
       "  </tbody>\n",
       "</table>\n",
       "</div>"
      ],
      "text/plain": [
       "   duration  num_voted_users  dir_avg_score  cluster\n",
       "0  0.231201         0.461851       0.219546      1.0\n",
       "1  0.200485         0.216251       0.078853      1.0\n",
       "2  0.128812         0.100636       0.156775      1.0\n",
       "3  0.183420         0.614622       0.296927      1.0\n",
       "5  0.074205         0.062957       0.192129      1.0"
      ]
     },
     "execution_count": 212,
     "metadata": {},
     "output_type": "execute_result"
    }
   ],
   "source": [
    "cluster3 = norm.join(cluster2)\n",
    "cluster3.head()"
   ]
  },
  {
   "cell_type": "code",
   "execution_count": 213,
   "metadata": {},
   "outputs": [
    {
     "data": {
      "text/html": [
       "<div>\n",
       "<style scoped>\n",
       "    .dataframe tbody tr th:only-of-type {\n",
       "        vertical-align: middle;\n",
       "    }\n",
       "\n",
       "    .dataframe tbody tr th {\n",
       "        vertical-align: top;\n",
       "    }\n",
       "\n",
       "    .dataframe thead th {\n",
       "        text-align: right;\n",
       "    }\n",
       "</style>\n",
       "<table border=\"1\" class=\"dataframe\">\n",
       "  <thead>\n",
       "    <tr style=\"text-align: right;\">\n",
       "      <th></th>\n",
       "      <th>duration</th>\n",
       "      <th>num_voted_users</th>\n",
       "      <th>dir_avg_score</th>\n",
       "    </tr>\n",
       "    <tr>\n",
       "      <th>cluster</th>\n",
       "      <th></th>\n",
       "      <th></th>\n",
       "      <th></th>\n",
       "    </tr>\n",
       "  </thead>\n",
       "  <tbody>\n",
       "    <tr>\n",
       "      <th>0.0</th>\n",
       "      <td>-0.005278</td>\n",
       "      <td>-0.001605</td>\n",
       "      <td>-0.019966</td>\n",
       "    </tr>\n",
       "    <tr>\n",
       "      <th>1.0</th>\n",
       "      <td>0.029633</td>\n",
       "      <td>0.043953</td>\n",
       "      <td>0.021272</td>\n",
       "    </tr>\n",
       "    <tr>\n",
       "      <th>2.0</th>\n",
       "      <td>0.003342</td>\n",
       "      <td>0.002090</td>\n",
       "      <td>-0.003953</td>\n",
       "    </tr>\n",
       "    <tr>\n",
       "      <th>3.0</th>\n",
       "      <td>0.003928</td>\n",
       "      <td>0.000714</td>\n",
       "      <td>-0.005903</td>\n",
       "    </tr>\n",
       "  </tbody>\n",
       "</table>\n",
       "</div>"
      ],
      "text/plain": [
       "         duration  num_voted_users  dir_avg_score\n",
       "cluster                                          \n",
       "0.0     -0.005278        -0.001605      -0.019966\n",
       "1.0      0.029633         0.043953       0.021272\n",
       "2.0      0.003342         0.002090      -0.003953\n",
       "3.0      0.003928         0.000714      -0.005903"
      ]
     },
     "execution_count": 213,
     "metadata": {},
     "output_type": "execute_result"
    }
   ],
   "source": [
    "cluster3.groupby(['cluster']).mean() "
   ]
  },
  {
   "cell_type": "markdown",
   "metadata": {},
   "source": [
    "### Profiling\n",
    "- Cluster 0 has a short duration, low number of user votes, and a low average director score.\n",
    "- Cluster 1 has a long duration, high number of user votes, and a high average director score.\n",
    "- Cluster 2 has a medium duration, medium number of user votes, and a medium average director score.\n",
    "- Cluster 3 has a medium duration, low number of user votes, and a medium average director score."
   ]
  },
  {
   "cell_type": "code",
   "execution_count": 215,
   "metadata": {},
   "outputs": [
    {
     "data": {
      "text/html": [
       "<div>\n",
       "<style scoped>\n",
       "    .dataframe tbody tr th:only-of-type {\n",
       "        vertical-align: middle;\n",
       "    }\n",
       "\n",
       "    .dataframe tbody tr th {\n",
       "        vertical-align: top;\n",
       "    }\n",
       "\n",
       "    .dataframe thead th {\n",
       "        text-align: right;\n",
       "    }\n",
       "</style>\n",
       "<table border=\"1\" class=\"dataframe\">\n",
       "  <thead>\n",
       "    <tr style=\"text-align: right;\">\n",
       "      <th></th>\n",
       "      <th>duration</th>\n",
       "      <th>num_voted_users</th>\n",
       "      <th>dir_avg_score</th>\n",
       "      <th>cluster</th>\n",
       "    </tr>\n",
       "  </thead>\n",
       "  <tbody>\n",
       "    <tr>\n",
       "      <th>0</th>\n",
       "      <td>178.0</td>\n",
       "      <td>886204</td>\n",
       "      <td>7.914286</td>\n",
       "      <td>1.0</td>\n",
       "    </tr>\n",
       "    <tr>\n",
       "      <th>1</th>\n",
       "      <td>169.0</td>\n",
       "      <td>471220</td>\n",
       "      <td>6.985714</td>\n",
       "      <td>1.0</td>\n",
       "    </tr>\n",
       "    <tr>\n",
       "      <th>2</th>\n",
       "      <td>148.0</td>\n",
       "      <td>275868</td>\n",
       "      <td>7.500000</td>\n",
       "      <td>1.0</td>\n",
       "    </tr>\n",
       "    <tr>\n",
       "      <th>3</th>\n",
       "      <td>164.0</td>\n",
       "      <td>1144337</td>\n",
       "      <td>8.425000</td>\n",
       "      <td>1.0</td>\n",
       "    </tr>\n",
       "    <tr>\n",
       "      <th>5</th>\n",
       "      <td>132.0</td>\n",
       "      <td>212204</td>\n",
       "      <td>7.733333</td>\n",
       "      <td>1.0</td>\n",
       "    </tr>\n",
       "  </tbody>\n",
       "</table>\n",
       "</div>"
      ],
      "text/plain": [
       "   duration  num_voted_users  dir_avg_score  cluster\n",
       "0     178.0           886204       7.914286      1.0\n",
       "1     169.0           471220       6.985714      1.0\n",
       "2     148.0           275868       7.500000      1.0\n",
       "3     164.0          1144337       8.425000      1.0\n",
       "5     132.0           212204       7.733333      1.0"
      ]
     },
     "execution_count": 215,
     "metadata": {},
     "output_type": "execute_result"
    }
   ],
   "source": [
    "cluster4 = cluster.join(cluster2)\n",
    "cluster4.head()"
   ]
  },
  {
   "cell_type": "code",
   "execution_count": 216,
   "metadata": {
    "scrolled": true
   },
   "outputs": [
    {
     "data": {
      "text/plain": [
       "cluster\n",
       "0.0     208\n",
       "1.0     302\n",
       "2.0    1514\n",
       "3.0    1189\n",
       "dtype: int64"
      ]
     },
     "execution_count": 216,
     "metadata": {},
     "output_type": "execute_result"
    }
   ],
   "source": [
    "cluster4.groupby('cluster').size()"
   ]
  },
  {
   "cell_type": "markdown",
   "metadata": {},
   "source": [
    "- Cluster 1 has 208 movies\n",
    "- Cluster 2 has 302 movies\n",
    "- Cluster 3 has 1514 movies\n",
    "- Cluster 4 has 1189 movies"
   ]
  },
  {
   "cell_type": "code",
   "execution_count": 217,
   "metadata": {
    "scrolled": false
   },
   "outputs": [
    {
     "data": {
      "text/plain": [
       "<seaborn.axisgrid.FacetGrid at 0x17182748>"
      ]
     },
     "execution_count": 217,
     "metadata": {},
     "output_type": "execute_result"
    },
    {
     "data": {
      "image/png": "[encoded data removed]",
      "text/plain": [
       "<Figure size 360x360 with 1 Axes>"
      ]
     },
     "metadata": {},
     "output_type": "display_data"
    },
    {
     "data": {
      "image/png": "[encoded data removed]",
      "text/plain": [
       "<Figure size 360x360 with 1 Axes>"
      ]
     },
     "metadata": {},
     "output_type": "display_data"
    },
    {
     "data": {
      "image/png": "[encoded data removed]",
      "text/plain": [
       "<Figure size 360x360 with 1 Axes>"
      ]
     },
     "metadata": {},
     "output_type": "display_data"
    }
   ],
   "source": [
    "sns.lmplot(\"cluster\", \"duration\", cluster4, x_jitter=.15, y_jitter=.15)\n",
    "sns.lmplot(\"cluster\", \"num_voted_users\", cluster4, x_jitter=.15, y_jitter=.15)\n",
    "sns.lmplot(\"cluster\", \"dir_avg_score\", cluster4, x_jitter=.15, y_jitter=.15)"
   ]
  },
  {
   "cell_type": "code",
   "execution_count": 226,
   "metadata": {
    "scrolled": true
   },
   "outputs": [
    {
     "data": {
      "image/png": "[encoded data removed]",
      "text/plain": [
       "<Figure size 432x288 with 1 Axes>"
      ]
     },
     "metadata": {},
     "output_type": "display_data"
    }
   ],
   "source": [
    "from mpl_toolkits.mplot3d import Axes3D\n",
    "\n",
    "fig = plt.figure()\n",
    "ax = fig.add_subplot(111, projection='3d')\n",
    "\n",
    "x = cluster4['duration']\n",
    "y = cluster4['num_voted_users']\n",
    "z = cluster4['dir_avg_score'] \n",
    "colors = cluster4['cluster']\n",
    "\n",
    "ax.scatter(x, y, z, c=colors, marker='o')\n",
    "ax.set_xlabel('Duration')\n",
    "ax.set_ylabel('Number of Voted Users')\n",
    "ax.set_zlabel('Director''s Avg Score')\n",
    "\n",
    "plt.show()"
   ]
  },
  {
   "cell_type": "markdown",
   "metadata": {},
   "source": [
    "### Optimal K value (Elbow Method)"
   ]
  },
  {
   "cell_type": "code",
   "execution_count": 249,
   "metadata": {
    "scrolled": true
   },
   "outputs": [
    {
     "data": {
      "text/plain": [
       "<matplotlib.axes._subplots.AxesSubplot at 0x17553390>"
      ]
     },
     "execution_count": 249,
     "metadata": {},
     "output_type": "execute_result"
    },
    {
     "data": {
      "image/png": "[encoded data removed]",
      "text/plain": [
       "<Figure size 432x288 with 2 Axes>"
      ]
     },
     "metadata": {},
     "output_type": "display_data"
    }
   ],
   "source": [
    "import scikitplot as skplt\n",
    "\n",
    "kmeans = KMeans(random_state=1) \n",
    "skplt.cluster.plot_elbow_curve(kmeans, norm, cluster_ranges=range(1, 10))"
   ]
  },
  {
   "cell_type": "markdown",
   "metadata": {},
   "source": [
    "## Storytelling\n",
    "\n",
    "- Overall, duration, the number of voters, and the director's average movie score were the most important factors in predicting a movie's success.\n",
    "- The Random Forest model with 1000 iterations of predicting proved the most effective with 84.7% accuracy in placing a movie in the correct category.\n",
    "- Using a simple regression model that includes all possible vairables has a 75.2% accuracy."
   ]
  }
 ],
 "metadata": {
  "kernelspec": {
   "display_name": "Python 2",
   "language": "python",
   "name": "python2"
  },
  "language_info": {
   "codemirror_mode": {
    "name": "ipython",
    "version": 2
   },
   "file_extension": ".py",
   "mimetype": "text/x-python",
   "name": "python",
   "nbconvert_exporter": "python",
   "pygments_lexer": "ipython2",
   "version": "2.7.15"
  }
 },
 "nbformat": 4,
 "nbformat_minor": 2
}
